{
 "cells": [
  {
   "cell_type": "markdown",
   "metadata": {},
   "source": [
    "# Combined CSV #"
   ]
  },
  {
   "cell_type": "code",
   "execution_count": 1,
   "metadata": {
    "ExecuteTime": {
     "end_time": "2019-04-25T13:34:11.791974Z",
     "start_time": "2019-04-25T13:33:32.576763Z"
    }
   },
   "outputs": [],
   "source": [
    "from skimage.io import imread_collection\n",
    "import matplotlib.pyplot as plt\n",
    "import numpy as np\n",
    "import pandas as pd\n",
    "from sklearn.decomposition import PCA\n",
    "from sklearn.model_selection import train_test_split\n",
    "from sklearn.metrics import classification_report,confusion_matrix"
   ]
  },
  {
   "cell_type": "code",
   "execution_count": 2,
   "metadata": {
    "ExecuteTime": {
     "end_time": "2019-04-25T13:35:26.373420Z",
     "start_time": "2019-04-25T13:35:26.369408Z"
    }
   },
   "outputs": [],
   "source": [
    "def flat_images(path,label):\n",
    "    images=imread_collection(path)\n",
    "    flat_images=[]\n",
    "    for i in range(len(images)):\n",
    "        img=images[i]\n",
    "        img1=img.flatten()\n",
    "        flat_images.append(img1)\n",
    "    length=flat_images[1].shape\n",
    "    df=pd.DataFrame(flat_images)\n",
    "    df['label']=label\n",
    "    return(df)"
   ]
  },
  {
   "cell_type": "code",
   "execution_count": 3,
   "metadata": {
    "ExecuteTime": {
     "end_time": "2019-04-25T13:35:55.408128Z",
     "start_time": "2019-04-25T13:35:28.264180Z"
    }
   },
   "outputs": [],
   "source": [
    "path = 'C:/Users/sam2146/Documents/522_Proj/small/*.jpg'\n",
    "label=[1,2,3]\n",
    "df=flat_images(path,label[0])"
   ]
  },
  {
   "cell_type": "code",
   "execution_count": 4,
   "metadata": {
    "ExecuteTime": {
     "end_time": "2019-04-25T13:36:08.763788Z",
     "start_time": "2019-04-25T13:36:08.531166Z"
    }
   },
   "outputs": [],
   "source": [
    "position=[np.floor(i/7) for i in df.index]\n",
    "df['position']=position"
   ]
  },
  {
   "cell_type": "code",
   "execution_count": 5,
   "metadata": {
    "ExecuteTime": {
     "end_time": "2019-04-25T13:36:21.168934Z",
     "start_time": "2019-04-25T13:36:21.056635Z"
    }
   },
   "outputs": [
    {
     "data": {
      "text/html": [
       "<div>\n",
       "<style scoped>\n",
       "    .dataframe tbody tr th:only-of-type {\n",
       "        vertical-align: middle;\n",
       "    }\n",
       "\n",
       "    .dataframe tbody tr th {\n",
       "        vertical-align: top;\n",
       "    }\n",
       "\n",
       "    .dataframe thead th {\n",
       "        text-align: right;\n",
       "    }\n",
       "</style>\n",
       "<table border=\"1\" class=\"dataframe\">\n",
       "  <thead>\n",
       "    <tr style=\"text-align: right;\">\n",
       "      <th></th>\n",
       "      <th>0</th>\n",
       "      <th>1</th>\n",
       "      <th>2</th>\n",
       "      <th>3</th>\n",
       "      <th>4</th>\n",
       "      <th>5</th>\n",
       "      <th>6</th>\n",
       "      <th>7</th>\n",
       "      <th>8</th>\n",
       "      <th>9</th>\n",
       "      <th>...</th>\n",
       "      <th>307192</th>\n",
       "      <th>307193</th>\n",
       "      <th>307194</th>\n",
       "      <th>307195</th>\n",
       "      <th>307196</th>\n",
       "      <th>307197</th>\n",
       "      <th>307198</th>\n",
       "      <th>307199</th>\n",
       "      <th>label</th>\n",
       "      <th>position</th>\n",
       "    </tr>\n",
       "  </thead>\n",
       "  <tbody>\n",
       "    <tr>\n",
       "      <th>0</th>\n",
       "      <td>255</td>\n",
       "      <td>254</td>\n",
       "      <td>255</td>\n",
       "      <td>255</td>\n",
       "      <td>254</td>\n",
       "      <td>255</td>\n",
       "      <td>255</td>\n",
       "      <td>254</td>\n",
       "      <td>255</td>\n",
       "      <td>255</td>\n",
       "      <td>...</td>\n",
       "      <td>207</td>\n",
       "      <td>201</td>\n",
       "      <td>213</td>\n",
       "      <td>208</td>\n",
       "      <td>202</td>\n",
       "      <td>213</td>\n",
       "      <td>208</td>\n",
       "      <td>202</td>\n",
       "      <td>1</td>\n",
       "      <td>0.0</td>\n",
       "    </tr>\n",
       "    <tr>\n",
       "      <th>1</th>\n",
       "      <td>223</td>\n",
       "      <td>213</td>\n",
       "      <td>204</td>\n",
       "      <td>225</td>\n",
       "      <td>215</td>\n",
       "      <td>206</td>\n",
       "      <td>225</td>\n",
       "      <td>215</td>\n",
       "      <td>206</td>\n",
       "      <td>224</td>\n",
       "      <td>...</td>\n",
       "      <td>82</td>\n",
       "      <td>94</td>\n",
       "      <td>90</td>\n",
       "      <td>90</td>\n",
       "      <td>100</td>\n",
       "      <td>92</td>\n",
       "      <td>92</td>\n",
       "      <td>102</td>\n",
       "      <td>1</td>\n",
       "      <td>0.0</td>\n",
       "    </tr>\n",
       "    <tr>\n",
       "      <th>2</th>\n",
       "      <td>223</td>\n",
       "      <td>213</td>\n",
       "      <td>204</td>\n",
       "      <td>222</td>\n",
       "      <td>212</td>\n",
       "      <td>203</td>\n",
       "      <td>221</td>\n",
       "      <td>211</td>\n",
       "      <td>202</td>\n",
       "      <td>222</td>\n",
       "      <td>...</td>\n",
       "      <td>65</td>\n",
       "      <td>77</td>\n",
       "      <td>63</td>\n",
       "      <td>65</td>\n",
       "      <td>77</td>\n",
       "      <td>63</td>\n",
       "      <td>65</td>\n",
       "      <td>77</td>\n",
       "      <td>1</td>\n",
       "      <td>0.0</td>\n",
       "    </tr>\n",
       "    <tr>\n",
       "      <th>3</th>\n",
       "      <td>223</td>\n",
       "      <td>213</td>\n",
       "      <td>204</td>\n",
       "      <td>223</td>\n",
       "      <td>213</td>\n",
       "      <td>204</td>\n",
       "      <td>224</td>\n",
       "      <td>214</td>\n",
       "      <td>205</td>\n",
       "      <td>225</td>\n",
       "      <td>...</td>\n",
       "      <td>66</td>\n",
       "      <td>77</td>\n",
       "      <td>60</td>\n",
       "      <td>58</td>\n",
       "      <td>71</td>\n",
       "      <td>60</td>\n",
       "      <td>58</td>\n",
       "      <td>72</td>\n",
       "      <td>1</td>\n",
       "      <td>0.0</td>\n",
       "    </tr>\n",
       "    <tr>\n",
       "      <th>4</th>\n",
       "      <td>218</td>\n",
       "      <td>208</td>\n",
       "      <td>198</td>\n",
       "      <td>222</td>\n",
       "      <td>212</td>\n",
       "      <td>202</td>\n",
       "      <td>223</td>\n",
       "      <td>213</td>\n",
       "      <td>203</td>\n",
       "      <td>223</td>\n",
       "      <td>...</td>\n",
       "      <td>71</td>\n",
       "      <td>86</td>\n",
       "      <td>75</td>\n",
       "      <td>74</td>\n",
       "      <td>92</td>\n",
       "      <td>73</td>\n",
       "      <td>72</td>\n",
       "      <td>90</td>\n",
       "      <td>1</td>\n",
       "      <td>0.0</td>\n",
       "    </tr>\n",
       "    <tr>\n",
       "      <th>5</th>\n",
       "      <td>219</td>\n",
       "      <td>209</td>\n",
       "      <td>200</td>\n",
       "      <td>222</td>\n",
       "      <td>212</td>\n",
       "      <td>203</td>\n",
       "      <td>226</td>\n",
       "      <td>216</td>\n",
       "      <td>207</td>\n",
       "      <td>225</td>\n",
       "      <td>...</td>\n",
       "      <td>71</td>\n",
       "      <td>79</td>\n",
       "      <td>73</td>\n",
       "      <td>71</td>\n",
       "      <td>85</td>\n",
       "      <td>76</td>\n",
       "      <td>73</td>\n",
       "      <td>94</td>\n",
       "      <td>1</td>\n",
       "      <td>0.0</td>\n",
       "    </tr>\n",
       "    <tr>\n",
       "      <th>6</th>\n",
       "      <td>219</td>\n",
       "      <td>206</td>\n",
       "      <td>197</td>\n",
       "      <td>223</td>\n",
       "      <td>210</td>\n",
       "      <td>201</td>\n",
       "      <td>222</td>\n",
       "      <td>209</td>\n",
       "      <td>200</td>\n",
       "      <td>220</td>\n",
       "      <td>...</td>\n",
       "      <td>59</td>\n",
       "      <td>74</td>\n",
       "      <td>49</td>\n",
       "      <td>52</td>\n",
       "      <td>69</td>\n",
       "      <td>65</td>\n",
       "      <td>68</td>\n",
       "      <td>87</td>\n",
       "      <td>1</td>\n",
       "      <td>0.0</td>\n",
       "    </tr>\n",
       "    <tr>\n",
       "      <th>7</th>\n",
       "      <td>225</td>\n",
       "      <td>216</td>\n",
       "      <td>207</td>\n",
       "      <td>225</td>\n",
       "      <td>216</td>\n",
       "      <td>207</td>\n",
       "      <td>225</td>\n",
       "      <td>216</td>\n",
       "      <td>207</td>\n",
       "      <td>224</td>\n",
       "      <td>...</td>\n",
       "      <td>40</td>\n",
       "      <td>51</td>\n",
       "      <td>37</td>\n",
       "      <td>35</td>\n",
       "      <td>46</td>\n",
       "      <td>38</td>\n",
       "      <td>36</td>\n",
       "      <td>47</td>\n",
       "      <td>1</td>\n",
       "      <td>1.0</td>\n",
       "    </tr>\n",
       "    <tr>\n",
       "      <th>8</th>\n",
       "      <td>223</td>\n",
       "      <td>214</td>\n",
       "      <td>209</td>\n",
       "      <td>223</td>\n",
       "      <td>214</td>\n",
       "      <td>209</td>\n",
       "      <td>224</td>\n",
       "      <td>215</td>\n",
       "      <td>210</td>\n",
       "      <td>222</td>\n",
       "      <td>...</td>\n",
       "      <td>228</td>\n",
       "      <td>226</td>\n",
       "      <td>236</td>\n",
       "      <td>228</td>\n",
       "      <td>226</td>\n",
       "      <td>236</td>\n",
       "      <td>228</td>\n",
       "      <td>226</td>\n",
       "      <td>1</td>\n",
       "      <td>1.0</td>\n",
       "    </tr>\n",
       "    <tr>\n",
       "      <th>9</th>\n",
       "      <td>221</td>\n",
       "      <td>212</td>\n",
       "      <td>205</td>\n",
       "      <td>221</td>\n",
       "      <td>212</td>\n",
       "      <td>205</td>\n",
       "      <td>223</td>\n",
       "      <td>214</td>\n",
       "      <td>207</td>\n",
       "      <td>223</td>\n",
       "      <td>...</td>\n",
       "      <td>229</td>\n",
       "      <td>226</td>\n",
       "      <td>237</td>\n",
       "      <td>229</td>\n",
       "      <td>226</td>\n",
       "      <td>238</td>\n",
       "      <td>230</td>\n",
       "      <td>227</td>\n",
       "      <td>1</td>\n",
       "      <td>1.0</td>\n",
       "    </tr>\n",
       "  </tbody>\n",
       "</table>\n",
       "<p>10 rows × 307202 columns</p>\n",
       "</div>"
      ],
      "text/plain": [
       "     0    1    2    3    4    5    6    7    8    9  ...  307192  307193  \\\n",
       "0  255  254  255  255  254  255  255  254  255  255  ...     207     201   \n",
       "1  223  213  204  225  215  206  225  215  206  224  ...      82      94   \n",
       "2  223  213  204  222  212  203  221  211  202  222  ...      65      77   \n",
       "3  223  213  204  223  213  204  224  214  205  225  ...      66      77   \n",
       "4  218  208  198  222  212  202  223  213  203  223  ...      71      86   \n",
       "5  219  209  200  222  212  203  226  216  207  225  ...      71      79   \n",
       "6  219  206  197  223  210  201  222  209  200  220  ...      59      74   \n",
       "7  225  216  207  225  216  207  225  216  207  224  ...      40      51   \n",
       "8  223  214  209  223  214  209  224  215  210  222  ...     228     226   \n",
       "9  221  212  205  221  212  205  223  214  207  223  ...     229     226   \n",
       "\n",
       "   307194  307195  307196  307197  307198  307199  label  position  \n",
       "0     213     208     202     213     208     202      1       0.0  \n",
       "1      90      90     100      92      92     102      1       0.0  \n",
       "2      63      65      77      63      65      77      1       0.0  \n",
       "3      60      58      71      60      58      72      1       0.0  \n",
       "4      75      74      92      73      72      90      1       0.0  \n",
       "5      73      71      85      76      73      94      1       0.0  \n",
       "6      49      52      69      65      68      87      1       0.0  \n",
       "7      37      35      46      38      36      47      1       1.0  \n",
       "8     236     228     226     236     228     226      1       1.0  \n",
       "9     237     229     226     238     230     227      1       1.0  \n",
       "\n",
       "[10 rows x 307202 columns]"
      ]
     },
     "execution_count": 5,
     "metadata": {},
     "output_type": "execute_result"
    }
   ],
   "source": [
    "df.head(10)"
   ]
  },
  {
   "cell_type": "code",
   "execution_count": 6,
   "metadata": {
    "ExecuteTime": {
     "end_time": "2019-04-25T13:37:16.481015Z",
     "start_time": "2019-04-25T13:36:50.428192Z"
    }
   },
   "outputs": [],
   "source": [
    "path = 'C:/Users/sam2146/Documents/522_Proj/Tyler/*.jpg'\n",
    "label=[1,2,3]\n",
    "df_t=flat_images(path,label[1])"
   ]
  },
  {
   "cell_type": "code",
   "execution_count": 7,
   "metadata": {
    "ExecuteTime": {
     "end_time": "2019-04-25T13:37:33.063324Z",
     "start_time": "2019-04-25T13:37:32.846745Z"
    }
   },
   "outputs": [],
   "source": [
    "position=[np.floor(i/7) for i in df_t.index]\n",
    "df_t['position']=position"
   ]
  },
  {
   "cell_type": "code",
   "execution_count": 8,
   "metadata": {
    "ExecuteTime": {
     "end_time": "2019-04-25T13:37:50.181065Z",
     "start_time": "2019-04-25T13:37:50.088819Z"
    }
   },
   "outputs": [
    {
     "data": {
      "text/html": [
       "<div>\n",
       "<style scoped>\n",
       "    .dataframe tbody tr th:only-of-type {\n",
       "        vertical-align: middle;\n",
       "    }\n",
       "\n",
       "    .dataframe tbody tr th {\n",
       "        vertical-align: top;\n",
       "    }\n",
       "\n",
       "    .dataframe thead th {\n",
       "        text-align: right;\n",
       "    }\n",
       "</style>\n",
       "<table border=\"1\" class=\"dataframe\">\n",
       "  <thead>\n",
       "    <tr style=\"text-align: right;\">\n",
       "      <th></th>\n",
       "      <th>0</th>\n",
       "      <th>1</th>\n",
       "      <th>2</th>\n",
       "      <th>3</th>\n",
       "      <th>4</th>\n",
       "      <th>5</th>\n",
       "      <th>6</th>\n",
       "      <th>7</th>\n",
       "      <th>8</th>\n",
       "      <th>9</th>\n",
       "      <th>...</th>\n",
       "      <th>307192</th>\n",
       "      <th>307193</th>\n",
       "      <th>307194</th>\n",
       "      <th>307195</th>\n",
       "      <th>307196</th>\n",
       "      <th>307197</th>\n",
       "      <th>307198</th>\n",
       "      <th>307199</th>\n",
       "      <th>label</th>\n",
       "      <th>position</th>\n",
       "    </tr>\n",
       "  </thead>\n",
       "  <tbody>\n",
       "    <tr>\n",
       "      <th>0</th>\n",
       "      <td>246</td>\n",
       "      <td>241</td>\n",
       "      <td>235</td>\n",
       "      <td>248</td>\n",
       "      <td>243</td>\n",
       "      <td>237</td>\n",
       "      <td>250</td>\n",
       "      <td>245</td>\n",
       "      <td>239</td>\n",
       "      <td>250</td>\n",
       "      <td>...</td>\n",
       "      <td>215</td>\n",
       "      <td>212</td>\n",
       "      <td>223</td>\n",
       "      <td>215</td>\n",
       "      <td>212</td>\n",
       "      <td>225</td>\n",
       "      <td>217</td>\n",
       "      <td>214</td>\n",
       "      <td>2</td>\n",
       "      <td>0.0</td>\n",
       "    </tr>\n",
       "    <tr>\n",
       "      <th>1</th>\n",
       "      <td>255</td>\n",
       "      <td>253</td>\n",
       "      <td>246</td>\n",
       "      <td>255</td>\n",
       "      <td>253</td>\n",
       "      <td>246</td>\n",
       "      <td>255</td>\n",
       "      <td>253</td>\n",
       "      <td>246</td>\n",
       "      <td>255</td>\n",
       "      <td>...</td>\n",
       "      <td>215</td>\n",
       "      <td>211</td>\n",
       "      <td>223</td>\n",
       "      <td>212</td>\n",
       "      <td>208</td>\n",
       "      <td>223</td>\n",
       "      <td>212</td>\n",
       "      <td>208</td>\n",
       "      <td>2</td>\n",
       "      <td>0.0</td>\n",
       "    </tr>\n",
       "    <tr>\n",
       "      <th>2</th>\n",
       "      <td>243</td>\n",
       "      <td>233</td>\n",
       "      <td>231</td>\n",
       "      <td>243</td>\n",
       "      <td>233</td>\n",
       "      <td>231</td>\n",
       "      <td>243</td>\n",
       "      <td>233</td>\n",
       "      <td>231</td>\n",
       "      <td>244</td>\n",
       "      <td>...</td>\n",
       "      <td>209</td>\n",
       "      <td>204</td>\n",
       "      <td>218</td>\n",
       "      <td>209</td>\n",
       "      <td>204</td>\n",
       "      <td>218</td>\n",
       "      <td>209</td>\n",
       "      <td>204</td>\n",
       "      <td>2</td>\n",
       "      <td>0.0</td>\n",
       "    </tr>\n",
       "    <tr>\n",
       "      <th>3</th>\n",
       "      <td>243</td>\n",
       "      <td>233</td>\n",
       "      <td>231</td>\n",
       "      <td>244</td>\n",
       "      <td>234</td>\n",
       "      <td>232</td>\n",
       "      <td>244</td>\n",
       "      <td>234</td>\n",
       "      <td>232</td>\n",
       "      <td>244</td>\n",
       "      <td>...</td>\n",
       "      <td>212</td>\n",
       "      <td>207</td>\n",
       "      <td>222</td>\n",
       "      <td>213</td>\n",
       "      <td>208</td>\n",
       "      <td>222</td>\n",
       "      <td>213</td>\n",
       "      <td>208</td>\n",
       "      <td>2</td>\n",
       "      <td>0.0</td>\n",
       "    </tr>\n",
       "    <tr>\n",
       "      <th>4</th>\n",
       "      <td>248</td>\n",
       "      <td>238</td>\n",
       "      <td>229</td>\n",
       "      <td>249</td>\n",
       "      <td>239</td>\n",
       "      <td>230</td>\n",
       "      <td>250</td>\n",
       "      <td>240</td>\n",
       "      <td>231</td>\n",
       "      <td>249</td>\n",
       "      <td>...</td>\n",
       "      <td>215</td>\n",
       "      <td>206</td>\n",
       "      <td>226</td>\n",
       "      <td>216</td>\n",
       "      <td>207</td>\n",
       "      <td>229</td>\n",
       "      <td>219</td>\n",
       "      <td>210</td>\n",
       "      <td>2</td>\n",
       "      <td>0.0</td>\n",
       "    </tr>\n",
       "    <tr>\n",
       "      <th>5</th>\n",
       "      <td>248</td>\n",
       "      <td>238</td>\n",
       "      <td>229</td>\n",
       "      <td>249</td>\n",
       "      <td>239</td>\n",
       "      <td>230</td>\n",
       "      <td>249</td>\n",
       "      <td>239</td>\n",
       "      <td>230</td>\n",
       "      <td>247</td>\n",
       "      <td>...</td>\n",
       "      <td>216</td>\n",
       "      <td>206</td>\n",
       "      <td>226</td>\n",
       "      <td>216</td>\n",
       "      <td>206</td>\n",
       "      <td>227</td>\n",
       "      <td>217</td>\n",
       "      <td>207</td>\n",
       "      <td>2</td>\n",
       "      <td>0.0</td>\n",
       "    </tr>\n",
       "    <tr>\n",
       "      <th>6</th>\n",
       "      <td>243</td>\n",
       "      <td>234</td>\n",
       "      <td>229</td>\n",
       "      <td>243</td>\n",
       "      <td>234</td>\n",
       "      <td>229</td>\n",
       "      <td>243</td>\n",
       "      <td>234</td>\n",
       "      <td>229</td>\n",
       "      <td>243</td>\n",
       "      <td>...</td>\n",
       "      <td>211</td>\n",
       "      <td>206</td>\n",
       "      <td>222</td>\n",
       "      <td>213</td>\n",
       "      <td>208</td>\n",
       "      <td>223</td>\n",
       "      <td>214</td>\n",
       "      <td>209</td>\n",
       "      <td>2</td>\n",
       "      <td>0.0</td>\n",
       "    </tr>\n",
       "    <tr>\n",
       "      <th>7</th>\n",
       "      <td>251</td>\n",
       "      <td>243</td>\n",
       "      <td>240</td>\n",
       "      <td>251</td>\n",
       "      <td>243</td>\n",
       "      <td>240</td>\n",
       "      <td>251</td>\n",
       "      <td>243</td>\n",
       "      <td>240</td>\n",
       "      <td>251</td>\n",
       "      <td>...</td>\n",
       "      <td>217</td>\n",
       "      <td>214</td>\n",
       "      <td>226</td>\n",
       "      <td>218</td>\n",
       "      <td>216</td>\n",
       "      <td>227</td>\n",
       "      <td>219</td>\n",
       "      <td>217</td>\n",
       "      <td>2</td>\n",
       "      <td>1.0</td>\n",
       "    </tr>\n",
       "    <tr>\n",
       "      <th>8</th>\n",
       "      <td>247</td>\n",
       "      <td>238</td>\n",
       "      <td>231</td>\n",
       "      <td>248</td>\n",
       "      <td>239</td>\n",
       "      <td>232</td>\n",
       "      <td>248</td>\n",
       "      <td>239</td>\n",
       "      <td>232</td>\n",
       "      <td>247</td>\n",
       "      <td>...</td>\n",
       "      <td>218</td>\n",
       "      <td>215</td>\n",
       "      <td>226</td>\n",
       "      <td>218</td>\n",
       "      <td>215</td>\n",
       "      <td>226</td>\n",
       "      <td>218</td>\n",
       "      <td>215</td>\n",
       "      <td>2</td>\n",
       "      <td>1.0</td>\n",
       "    </tr>\n",
       "    <tr>\n",
       "      <th>9</th>\n",
       "      <td>252</td>\n",
       "      <td>245</td>\n",
       "      <td>239</td>\n",
       "      <td>250</td>\n",
       "      <td>243</td>\n",
       "      <td>237</td>\n",
       "      <td>250</td>\n",
       "      <td>243</td>\n",
       "      <td>237</td>\n",
       "      <td>252</td>\n",
       "      <td>...</td>\n",
       "      <td>215</td>\n",
       "      <td>211</td>\n",
       "      <td>220</td>\n",
       "      <td>215</td>\n",
       "      <td>211</td>\n",
       "      <td>220</td>\n",
       "      <td>215</td>\n",
       "      <td>211</td>\n",
       "      <td>2</td>\n",
       "      <td>1.0</td>\n",
       "    </tr>\n",
       "  </tbody>\n",
       "</table>\n",
       "<p>10 rows × 307202 columns</p>\n",
       "</div>"
      ],
      "text/plain": [
       "     0    1    2    3    4    5    6    7    8    9  ...  307192  307193  \\\n",
       "0  246  241  235  248  243  237  250  245  239  250  ...     215     212   \n",
       "1  255  253  246  255  253  246  255  253  246  255  ...     215     211   \n",
       "2  243  233  231  243  233  231  243  233  231  244  ...     209     204   \n",
       "3  243  233  231  244  234  232  244  234  232  244  ...     212     207   \n",
       "4  248  238  229  249  239  230  250  240  231  249  ...     215     206   \n",
       "5  248  238  229  249  239  230  249  239  230  247  ...     216     206   \n",
       "6  243  234  229  243  234  229  243  234  229  243  ...     211     206   \n",
       "7  251  243  240  251  243  240  251  243  240  251  ...     217     214   \n",
       "8  247  238  231  248  239  232  248  239  232  247  ...     218     215   \n",
       "9  252  245  239  250  243  237  250  243  237  252  ...     215     211   \n",
       "\n",
       "   307194  307195  307196  307197  307198  307199  label  position  \n",
       "0     223     215     212     225     217     214      2       0.0  \n",
       "1     223     212     208     223     212     208      2       0.0  \n",
       "2     218     209     204     218     209     204      2       0.0  \n",
       "3     222     213     208     222     213     208      2       0.0  \n",
       "4     226     216     207     229     219     210      2       0.0  \n",
       "5     226     216     206     227     217     207      2       0.0  \n",
       "6     222     213     208     223     214     209      2       0.0  \n",
       "7     226     218     216     227     219     217      2       1.0  \n",
       "8     226     218     215     226     218     215      2       1.0  \n",
       "9     220     215     211     220     215     211      2       1.0  \n",
       "\n",
       "[10 rows x 307202 columns]"
      ]
     },
     "execution_count": 8,
     "metadata": {},
     "output_type": "execute_result"
    }
   ],
   "source": [
    "df_t.head(10)"
   ]
  },
  {
   "cell_type": "code",
   "execution_count": 9,
   "metadata": {
    "ExecuteTime": {
     "end_time": "2019-04-25T13:38:29.893882Z",
     "start_time": "2019-04-25T13:38:04.916060Z"
    }
   },
   "outputs": [],
   "source": [
    "path = 'C:/Users/sam2146/Documents/522_Proj/Kevin/*.jpg'\n",
    "label=[1,2,3]\n",
    "df_k=flat_images(path,label[2])"
   ]
  },
  {
   "cell_type": "code",
   "execution_count": 10,
   "metadata": {
    "ExecuteTime": {
     "end_time": "2019-04-25T13:38:50.137974Z",
     "start_time": "2019-04-25T13:38:49.907358Z"
    }
   },
   "outputs": [],
   "source": [
    "position=[np.floor(i/7) for i in df_k.index]\n",
    "df_k['position']=position"
   ]
  },
  {
   "cell_type": "code",
   "execution_count": 11,
   "metadata": {
    "ExecuteTime": {
     "end_time": "2019-04-25T13:39:10.285810Z",
     "start_time": "2019-04-25T13:39:10.214621Z"
    },
    "scrolled": true
   },
   "outputs": [
    {
     "data": {
      "text/html": [
       "<div>\n",
       "<style scoped>\n",
       "    .dataframe tbody tr th:only-of-type {\n",
       "        vertical-align: middle;\n",
       "    }\n",
       "\n",
       "    .dataframe tbody tr th {\n",
       "        vertical-align: top;\n",
       "    }\n",
       "\n",
       "    .dataframe thead th {\n",
       "        text-align: right;\n",
       "    }\n",
       "</style>\n",
       "<table border=\"1\" class=\"dataframe\">\n",
       "  <thead>\n",
       "    <tr style=\"text-align: right;\">\n",
       "      <th></th>\n",
       "      <th>0</th>\n",
       "      <th>1</th>\n",
       "      <th>2</th>\n",
       "      <th>3</th>\n",
       "      <th>4</th>\n",
       "      <th>5</th>\n",
       "      <th>6</th>\n",
       "      <th>7</th>\n",
       "      <th>8</th>\n",
       "      <th>9</th>\n",
       "      <th>...</th>\n",
       "      <th>307192</th>\n",
       "      <th>307193</th>\n",
       "      <th>307194</th>\n",
       "      <th>307195</th>\n",
       "      <th>307196</th>\n",
       "      <th>307197</th>\n",
       "      <th>307198</th>\n",
       "      <th>307199</th>\n",
       "      <th>label</th>\n",
       "      <th>position</th>\n",
       "    </tr>\n",
       "  </thead>\n",
       "  <tbody>\n",
       "    <tr>\n",
       "      <th>0</th>\n",
       "      <td>255</td>\n",
       "      <td>250</td>\n",
       "      <td>244</td>\n",
       "      <td>255</td>\n",
       "      <td>251</td>\n",
       "      <td>245</td>\n",
       "      <td>255</td>\n",
       "      <td>251</td>\n",
       "      <td>245</td>\n",
       "      <td>255</td>\n",
       "      <td>...</td>\n",
       "      <td>85</td>\n",
       "      <td>91</td>\n",
       "      <td>98</td>\n",
       "      <td>85</td>\n",
       "      <td>95</td>\n",
       "      <td>107</td>\n",
       "      <td>89</td>\n",
       "      <td>103</td>\n",
       "      <td>3</td>\n",
       "      <td>0.0</td>\n",
       "    </tr>\n",
       "    <tr>\n",
       "      <th>1</th>\n",
       "      <td>255</td>\n",
       "      <td>254</td>\n",
       "      <td>255</td>\n",
       "      <td>255</td>\n",
       "      <td>254</td>\n",
       "      <td>255</td>\n",
       "      <td>255</td>\n",
       "      <td>254</td>\n",
       "      <td>255</td>\n",
       "      <td>255</td>\n",
       "      <td>...</td>\n",
       "      <td>199</td>\n",
       "      <td>187</td>\n",
       "      <td>210</td>\n",
       "      <td>198</td>\n",
       "      <td>186</td>\n",
       "      <td>210</td>\n",
       "      <td>198</td>\n",
       "      <td>186</td>\n",
       "      <td>3</td>\n",
       "      <td>0.0</td>\n",
       "    </tr>\n",
       "    <tr>\n",
       "      <th>2</th>\n",
       "      <td>255</td>\n",
       "      <td>250</td>\n",
       "      <td>244</td>\n",
       "      <td>255</td>\n",
       "      <td>250</td>\n",
       "      <td>244</td>\n",
       "      <td>255</td>\n",
       "      <td>250</td>\n",
       "      <td>244</td>\n",
       "      <td>255</td>\n",
       "      <td>...</td>\n",
       "      <td>169</td>\n",
       "      <td>164</td>\n",
       "      <td>185</td>\n",
       "      <td>173</td>\n",
       "      <td>173</td>\n",
       "      <td>188</td>\n",
       "      <td>166</td>\n",
       "      <td>169</td>\n",
       "      <td>3</td>\n",
       "      <td>0.0</td>\n",
       "    </tr>\n",
       "    <tr>\n",
       "      <th>3</th>\n",
       "      <td>255</td>\n",
       "      <td>255</td>\n",
       "      <td>248</td>\n",
       "      <td>255</td>\n",
       "      <td>255</td>\n",
       "      <td>248</td>\n",
       "      <td>255</td>\n",
       "      <td>255</td>\n",
       "      <td>248</td>\n",
       "      <td>255</td>\n",
       "      <td>...</td>\n",
       "      <td>94</td>\n",
       "      <td>106</td>\n",
       "      <td>103</td>\n",
       "      <td>97</td>\n",
       "      <td>111</td>\n",
       "      <td>105</td>\n",
       "      <td>97</td>\n",
       "      <td>112</td>\n",
       "      <td>3</td>\n",
       "      <td>0.0</td>\n",
       "    </tr>\n",
       "    <tr>\n",
       "      <th>4</th>\n",
       "      <td>255</td>\n",
       "      <td>255</td>\n",
       "      <td>251</td>\n",
       "      <td>255</td>\n",
       "      <td>255</td>\n",
       "      <td>251</td>\n",
       "      <td>255</td>\n",
       "      <td>255</td>\n",
       "      <td>251</td>\n",
       "      <td>255</td>\n",
       "      <td>...</td>\n",
       "      <td>160</td>\n",
       "      <td>164</td>\n",
       "      <td>111</td>\n",
       "      <td>106</td>\n",
       "      <td>113</td>\n",
       "      <td>86</td>\n",
       "      <td>83</td>\n",
       "      <td>90</td>\n",
       "      <td>3</td>\n",
       "      <td>0.0</td>\n",
       "    </tr>\n",
       "    <tr>\n",
       "      <th>5</th>\n",
       "      <td>255</td>\n",
       "      <td>246</td>\n",
       "      <td>236</td>\n",
       "      <td>255</td>\n",
       "      <td>246</td>\n",
       "      <td>236</td>\n",
       "      <td>255</td>\n",
       "      <td>246</td>\n",
       "      <td>236</td>\n",
       "      <td>255</td>\n",
       "      <td>...</td>\n",
       "      <td>211</td>\n",
       "      <td>203</td>\n",
       "      <td>239</td>\n",
       "      <td>225</td>\n",
       "      <td>222</td>\n",
       "      <td>227</td>\n",
       "      <td>207</td>\n",
       "      <td>206</td>\n",
       "      <td>3</td>\n",
       "      <td>0.0</td>\n",
       "    </tr>\n",
       "    <tr>\n",
       "      <th>6</th>\n",
       "      <td>254</td>\n",
       "      <td>244</td>\n",
       "      <td>235</td>\n",
       "      <td>253</td>\n",
       "      <td>243</td>\n",
       "      <td>234</td>\n",
       "      <td>252</td>\n",
       "      <td>242</td>\n",
       "      <td>233</td>\n",
       "      <td>253</td>\n",
       "      <td>...</td>\n",
       "      <td>97</td>\n",
       "      <td>104</td>\n",
       "      <td>87</td>\n",
       "      <td>81</td>\n",
       "      <td>95</td>\n",
       "      <td>85</td>\n",
       "      <td>81</td>\n",
       "      <td>96</td>\n",
       "      <td>3</td>\n",
       "      <td>0.0</td>\n",
       "    </tr>\n",
       "    <tr>\n",
       "      <th>7</th>\n",
       "      <td>252</td>\n",
       "      <td>242</td>\n",
       "      <td>240</td>\n",
       "      <td>252</td>\n",
       "      <td>242</td>\n",
       "      <td>240</td>\n",
       "      <td>252</td>\n",
       "      <td>242</td>\n",
       "      <td>240</td>\n",
       "      <td>251</td>\n",
       "      <td>...</td>\n",
       "      <td>97</td>\n",
       "      <td>111</td>\n",
       "      <td>106</td>\n",
       "      <td>100</td>\n",
       "      <td>114</td>\n",
       "      <td>104</td>\n",
       "      <td>98</td>\n",
       "      <td>110</td>\n",
       "      <td>3</td>\n",
       "      <td>1.0</td>\n",
       "    </tr>\n",
       "    <tr>\n",
       "      <th>8</th>\n",
       "      <td>254</td>\n",
       "      <td>245</td>\n",
       "      <td>238</td>\n",
       "      <td>255</td>\n",
       "      <td>246</td>\n",
       "      <td>239</td>\n",
       "      <td>255</td>\n",
       "      <td>247</td>\n",
       "      <td>240</td>\n",
       "      <td>255</td>\n",
       "      <td>...</td>\n",
       "      <td>158</td>\n",
       "      <td>151</td>\n",
       "      <td>199</td>\n",
       "      <td>192</td>\n",
       "      <td>184</td>\n",
       "      <td>226</td>\n",
       "      <td>223</td>\n",
       "      <td>214</td>\n",
       "      <td>3</td>\n",
       "      <td>1.0</td>\n",
       "    </tr>\n",
       "    <tr>\n",
       "      <th>9</th>\n",
       "      <td>255</td>\n",
       "      <td>250</td>\n",
       "      <td>244</td>\n",
       "      <td>255</td>\n",
       "      <td>251</td>\n",
       "      <td>245</td>\n",
       "      <td>255</td>\n",
       "      <td>251</td>\n",
       "      <td>245</td>\n",
       "      <td>255</td>\n",
       "      <td>...</td>\n",
       "      <td>134</td>\n",
       "      <td>134</td>\n",
       "      <td>123</td>\n",
       "      <td>111</td>\n",
       "      <td>115</td>\n",
       "      <td>116</td>\n",
       "      <td>97</td>\n",
       "      <td>103</td>\n",
       "      <td>3</td>\n",
       "      <td>1.0</td>\n",
       "    </tr>\n",
       "  </tbody>\n",
       "</table>\n",
       "<p>10 rows × 307202 columns</p>\n",
       "</div>"
      ],
      "text/plain": [
       "     0    1    2    3    4    5    6    7    8    9  ...  307192  307193  \\\n",
       "0  255  250  244  255  251  245  255  251  245  255  ...      85      91   \n",
       "1  255  254  255  255  254  255  255  254  255  255  ...     199     187   \n",
       "2  255  250  244  255  250  244  255  250  244  255  ...     169     164   \n",
       "3  255  255  248  255  255  248  255  255  248  255  ...      94     106   \n",
       "4  255  255  251  255  255  251  255  255  251  255  ...     160     164   \n",
       "5  255  246  236  255  246  236  255  246  236  255  ...     211     203   \n",
       "6  254  244  235  253  243  234  252  242  233  253  ...      97     104   \n",
       "7  252  242  240  252  242  240  252  242  240  251  ...      97     111   \n",
       "8  254  245  238  255  246  239  255  247  240  255  ...     158     151   \n",
       "9  255  250  244  255  251  245  255  251  245  255  ...     134     134   \n",
       "\n",
       "   307194  307195  307196  307197  307198  307199  label  position  \n",
       "0      98      85      95     107      89     103      3       0.0  \n",
       "1     210     198     186     210     198     186      3       0.0  \n",
       "2     185     173     173     188     166     169      3       0.0  \n",
       "3     103      97     111     105      97     112      3       0.0  \n",
       "4     111     106     113      86      83      90      3       0.0  \n",
       "5     239     225     222     227     207     206      3       0.0  \n",
       "6      87      81      95      85      81      96      3       0.0  \n",
       "7     106     100     114     104      98     110      3       1.0  \n",
       "8     199     192     184     226     223     214      3       1.0  \n",
       "9     123     111     115     116      97     103      3       1.0  \n",
       "\n",
       "[10 rows x 307202 columns]"
      ]
     },
     "execution_count": 11,
     "metadata": {},
     "output_type": "execute_result"
    }
   ],
   "source": [
    "df_k.head(10)"
   ]
  },
  {
   "cell_type": "code",
   "execution_count": 12,
   "metadata": {
    "ExecuteTime": {
     "end_time": "2019-04-25T13:39:36.612754Z",
     "start_time": "2019-04-25T13:39:35.425582Z"
    },
    "scrolled": true
   },
   "outputs": [
    {
     "data": {
      "text/html": [
       "<div>\n",
       "<style scoped>\n",
       "    .dataframe tbody tr th:only-of-type {\n",
       "        vertical-align: middle;\n",
       "    }\n",
       "\n",
       "    .dataframe tbody tr th {\n",
       "        vertical-align: top;\n",
       "    }\n",
       "\n",
       "    .dataframe thead th {\n",
       "        text-align: right;\n",
       "    }\n",
       "</style>\n",
       "<table border=\"1\" class=\"dataframe\">\n",
       "  <thead>\n",
       "    <tr style=\"text-align: right;\">\n",
       "      <th></th>\n",
       "      <th>0</th>\n",
       "      <th>1</th>\n",
       "      <th>2</th>\n",
       "      <th>3</th>\n",
       "      <th>4</th>\n",
       "      <th>5</th>\n",
       "      <th>6</th>\n",
       "      <th>7</th>\n",
       "      <th>8</th>\n",
       "      <th>9</th>\n",
       "      <th>...</th>\n",
       "      <th>307192</th>\n",
       "      <th>307193</th>\n",
       "      <th>307194</th>\n",
       "      <th>307195</th>\n",
       "      <th>307196</th>\n",
       "      <th>307197</th>\n",
       "      <th>307198</th>\n",
       "      <th>307199</th>\n",
       "      <th>label</th>\n",
       "      <th>position</th>\n",
       "    </tr>\n",
       "  </thead>\n",
       "  <tbody>\n",
       "    <tr>\n",
       "      <th>0</th>\n",
       "      <td>255</td>\n",
       "      <td>254</td>\n",
       "      <td>255</td>\n",
       "      <td>255</td>\n",
       "      <td>254</td>\n",
       "      <td>255</td>\n",
       "      <td>255</td>\n",
       "      <td>254</td>\n",
       "      <td>255</td>\n",
       "      <td>255</td>\n",
       "      <td>...</td>\n",
       "      <td>207</td>\n",
       "      <td>201</td>\n",
       "      <td>213</td>\n",
       "      <td>208</td>\n",
       "      <td>202</td>\n",
       "      <td>213</td>\n",
       "      <td>208</td>\n",
       "      <td>202</td>\n",
       "      <td>1</td>\n",
       "      <td>0.0</td>\n",
       "    </tr>\n",
       "    <tr>\n",
       "      <th>1</th>\n",
       "      <td>223</td>\n",
       "      <td>213</td>\n",
       "      <td>204</td>\n",
       "      <td>225</td>\n",
       "      <td>215</td>\n",
       "      <td>206</td>\n",
       "      <td>225</td>\n",
       "      <td>215</td>\n",
       "      <td>206</td>\n",
       "      <td>224</td>\n",
       "      <td>...</td>\n",
       "      <td>82</td>\n",
       "      <td>94</td>\n",
       "      <td>90</td>\n",
       "      <td>90</td>\n",
       "      <td>100</td>\n",
       "      <td>92</td>\n",
       "      <td>92</td>\n",
       "      <td>102</td>\n",
       "      <td>1</td>\n",
       "      <td>0.0</td>\n",
       "    </tr>\n",
       "    <tr>\n",
       "      <th>2</th>\n",
       "      <td>223</td>\n",
       "      <td>213</td>\n",
       "      <td>204</td>\n",
       "      <td>222</td>\n",
       "      <td>212</td>\n",
       "      <td>203</td>\n",
       "      <td>221</td>\n",
       "      <td>211</td>\n",
       "      <td>202</td>\n",
       "      <td>222</td>\n",
       "      <td>...</td>\n",
       "      <td>65</td>\n",
       "      <td>77</td>\n",
       "      <td>63</td>\n",
       "      <td>65</td>\n",
       "      <td>77</td>\n",
       "      <td>63</td>\n",
       "      <td>65</td>\n",
       "      <td>77</td>\n",
       "      <td>1</td>\n",
       "      <td>0.0</td>\n",
       "    </tr>\n",
       "    <tr>\n",
       "      <th>3</th>\n",
       "      <td>223</td>\n",
       "      <td>213</td>\n",
       "      <td>204</td>\n",
       "      <td>223</td>\n",
       "      <td>213</td>\n",
       "      <td>204</td>\n",
       "      <td>224</td>\n",
       "      <td>214</td>\n",
       "      <td>205</td>\n",
       "      <td>225</td>\n",
       "      <td>...</td>\n",
       "      <td>66</td>\n",
       "      <td>77</td>\n",
       "      <td>60</td>\n",
       "      <td>58</td>\n",
       "      <td>71</td>\n",
       "      <td>60</td>\n",
       "      <td>58</td>\n",
       "      <td>72</td>\n",
       "      <td>1</td>\n",
       "      <td>0.0</td>\n",
       "    </tr>\n",
       "    <tr>\n",
       "      <th>4</th>\n",
       "      <td>218</td>\n",
       "      <td>208</td>\n",
       "      <td>198</td>\n",
       "      <td>222</td>\n",
       "      <td>212</td>\n",
       "      <td>202</td>\n",
       "      <td>223</td>\n",
       "      <td>213</td>\n",
       "      <td>203</td>\n",
       "      <td>223</td>\n",
       "      <td>...</td>\n",
       "      <td>71</td>\n",
       "      <td>86</td>\n",
       "      <td>75</td>\n",
       "      <td>74</td>\n",
       "      <td>92</td>\n",
       "      <td>73</td>\n",
       "      <td>72</td>\n",
       "      <td>90</td>\n",
       "      <td>1</td>\n",
       "      <td>0.0</td>\n",
       "    </tr>\n",
       "  </tbody>\n",
       "</table>\n",
       "<p>5 rows × 307202 columns</p>\n",
       "</div>"
      ],
      "text/plain": [
       "     0    1    2    3    4    5    6    7    8    9  ...  307192  307193  \\\n",
       "0  255  254  255  255  254  255  255  254  255  255  ...     207     201   \n",
       "1  223  213  204  225  215  206  225  215  206  224  ...      82      94   \n",
       "2  223  213  204  222  212  203  221  211  202  222  ...      65      77   \n",
       "3  223  213  204  223  213  204  224  214  205  225  ...      66      77   \n",
       "4  218  208  198  222  212  202  223  213  203  223  ...      71      86   \n",
       "\n",
       "   307194  307195  307196  307197  307198  307199  label  position  \n",
       "0     213     208     202     213     208     202      1       0.0  \n",
       "1      90      90     100      92      92     102      1       0.0  \n",
       "2      63      65      77      63      65      77      1       0.0  \n",
       "3      60      58      71      60      58      72      1       0.0  \n",
       "4      75      74      92      73      72      90      1       0.0  \n",
       "\n",
       "[5 rows x 307202 columns]"
      ]
     },
     "execution_count": 12,
     "metadata": {},
     "output_type": "execute_result"
    }
   ],
   "source": [
    "big_df=pd.concat([df,df_t,df_k])\n",
    "big_df.head()"
   ]
  },
  {
   "cell_type": "code",
   "execution_count": 13,
   "metadata": {
    "ExecuteTime": {
     "end_time": "2019-04-25T13:40:24.995866Z",
     "start_time": "2019-04-25T13:40:24.991857Z"
    }
   },
   "outputs": [
    {
     "data": {
      "text/plain": [
       "(168, 307202)"
      ]
     },
     "execution_count": 13,
     "metadata": {},
     "output_type": "execute_result"
    }
   ],
   "source": [
    "big_df.shape"
   ]
  },
  {
   "cell_type": "code",
   "execution_count": 14,
   "metadata": {
    "ExecuteTime": {
     "end_time": "2019-04-25T13:40:41.078670Z",
     "start_time": "2019-04-25T13:40:40.789864Z"
    }
   },
   "outputs": [],
   "source": [
    "nonlabel=big_df.drop(['label','position'],axis=1)\n",
    "labels=big_df[['label','position']]\n"
   ]
  },
  {
   "cell_type": "code",
   "execution_count": 15,
   "metadata": {
    "ExecuteTime": {
     "end_time": "2019-04-25T13:41:15.448446Z",
     "start_time": "2019-04-25T13:41:08.808367Z"
    }
   },
   "outputs": [
    {
     "data": {
      "text/plain": [
       "162"
      ]
     },
     "execution_count": 15,
     "metadata": {},
     "output_type": "execute_result"
    }
   ],
   "source": [
    "pca=PCA()\n",
    "pca.fit(nonlabel)\n",
    "csum=np.cumsum(pca.explained_variance_ratio_)\n",
    "d=np.argmax(csum>=.9999)+1\n",
    "d"
   ]
  },
  {
   "cell_type": "code",
   "execution_count": 16,
   "metadata": {
    "ExecuteTime": {
     "end_time": "2019-04-25T13:41:42.640752Z",
     "start_time": "2019-04-25T13:41:35.983048Z"
    }
   },
   "outputs": [
    {
     "data": {
      "text/plain": [
       "((168, 307202), (168, 162))"
      ]
     },
     "execution_count": 16,
     "metadata": {},
     "output_type": "execute_result"
    }
   ],
   "source": [
    "pca=PCA(n_components=d)\n",
    "big_df_reduced=pca.fit_transform(nonlabel)\n",
    "big_df.shape, big_df_reduced.shape"
   ]
  },
  {
   "cell_type": "code",
   "execution_count": 46,
   "metadata": {
    "ExecuteTime": {
     "end_time": "2019-04-23T18:07:24.791114Z",
     "start_time": "2019-04-23T18:07:24.745222Z"
    }
   },
   "outputs": [
    {
     "data": {
      "text/html": [
       "<div>\n",
       "<style scoped>\n",
       "    .dataframe tbody tr th:only-of-type {\n",
       "        vertical-align: middle;\n",
       "    }\n",
       "\n",
       "    .dataframe tbody tr th {\n",
       "        vertical-align: top;\n",
       "    }\n",
       "\n",
       "    .dataframe thead th {\n",
       "        text-align: right;\n",
       "    }\n",
       "</style>\n",
       "<table border=\"1\" class=\"dataframe\">\n",
       "  <thead>\n",
       "    <tr style=\"text-align: right;\">\n",
       "      <th></th>\n",
       "      <th>0</th>\n",
       "      <th>1</th>\n",
       "      <th>2</th>\n",
       "      <th>3</th>\n",
       "      <th>4</th>\n",
       "      <th>5</th>\n",
       "      <th>6</th>\n",
       "      <th>7</th>\n",
       "      <th>8</th>\n",
       "      <th>9</th>\n",
       "      <th>...</th>\n",
       "      <th>154</th>\n",
       "      <th>155</th>\n",
       "      <th>156</th>\n",
       "      <th>157</th>\n",
       "      <th>158</th>\n",
       "      <th>159</th>\n",
       "      <th>160</th>\n",
       "      <th>161</th>\n",
       "      <th>position</th>\n",
       "      <th>label</th>\n",
       "    </tr>\n",
       "  </thead>\n",
       "  <tbody>\n",
       "    <tr>\n",
       "      <th>0</th>\n",
       "      <td>441.932661</td>\n",
       "      <td>7952.285956</td>\n",
       "      <td>-6597.443229</td>\n",
       "      <td>4630.249901</td>\n",
       "      <td>13140.750464</td>\n",
       "      <td>12722.120890</td>\n",
       "      <td>11494.439900</td>\n",
       "      <td>-8702.121877</td>\n",
       "      <td>-9162.197450</td>\n",
       "      <td>-1529.562493</td>\n",
       "      <td>...</td>\n",
       "      <td>-5.406816</td>\n",
       "      <td>-0.271236</td>\n",
       "      <td>-3.931996</td>\n",
       "      <td>0.467108</td>\n",
       "      <td>0.837577</td>\n",
       "      <td>-0.563901</td>\n",
       "      <td>-0.942227</td>\n",
       "      <td>0.168963</td>\n",
       "      <td>0.0</td>\n",
       "      <td>1</td>\n",
       "    </tr>\n",
       "    <tr>\n",
       "      <th>1</th>\n",
       "      <td>8989.608558</td>\n",
       "      <td>11673.484953</td>\n",
       "      <td>1131.446362</td>\n",
       "      <td>1844.040323</td>\n",
       "      <td>-8753.324088</td>\n",
       "      <td>1742.046292</td>\n",
       "      <td>-5237.215777</td>\n",
       "      <td>3268.983367</td>\n",
       "      <td>-2904.885423</td>\n",
       "      <td>3275.452421</td>\n",
       "      <td>...</td>\n",
       "      <td>2.564581</td>\n",
       "      <td>-1.487472</td>\n",
       "      <td>0.601396</td>\n",
       "      <td>0.160433</td>\n",
       "      <td>-5.907654</td>\n",
       "      <td>-1.736275</td>\n",
       "      <td>-1.412627</td>\n",
       "      <td>-1.312221</td>\n",
       "      <td>0.0</td>\n",
       "      <td>1</td>\n",
       "    </tr>\n",
       "    <tr>\n",
       "      <th>2</th>\n",
       "      <td>10668.507770</td>\n",
       "      <td>12591.264090</td>\n",
       "      <td>986.757039</td>\n",
       "      <td>5048.943308</td>\n",
       "      <td>-8241.432345</td>\n",
       "      <td>693.392980</td>\n",
       "      <td>-2488.998214</td>\n",
       "      <td>1838.418512</td>\n",
       "      <td>125.335751</td>\n",
       "      <td>4046.357927</td>\n",
       "      <td>...</td>\n",
       "      <td>-0.353201</td>\n",
       "      <td>-2.309761</td>\n",
       "      <td>3.313154</td>\n",
       "      <td>-0.944603</td>\n",
       "      <td>1.756764</td>\n",
       "      <td>-10.075806</td>\n",
       "      <td>-4.374063</td>\n",
       "      <td>2.741708</td>\n",
       "      <td>0.0</td>\n",
       "      <td>1</td>\n",
       "    </tr>\n",
       "    <tr>\n",
       "      <th>3</th>\n",
       "      <td>11714.634149</td>\n",
       "      <td>12304.238553</td>\n",
       "      <td>1232.151830</td>\n",
       "      <td>6968.885752</td>\n",
       "      <td>-7723.520810</td>\n",
       "      <td>230.108391</td>\n",
       "      <td>-448.051474</td>\n",
       "      <td>390.515751</td>\n",
       "      <td>2478.778945</td>\n",
       "      <td>3187.198572</td>\n",
       "      <td>...</td>\n",
       "      <td>3.839871</td>\n",
       "      <td>-1.356766</td>\n",
       "      <td>-2.746948</td>\n",
       "      <td>-2.019972</td>\n",
       "      <td>-10.868602</td>\n",
       "      <td>1.781758</td>\n",
       "      <td>-0.310839</td>\n",
       "      <td>-0.880320</td>\n",
       "      <td>0.0</td>\n",
       "      <td>1</td>\n",
       "    </tr>\n",
       "    <tr>\n",
       "      <th>4</th>\n",
       "      <td>12292.692526</td>\n",
       "      <td>11911.251073</td>\n",
       "      <td>987.619597</td>\n",
       "      <td>8391.517959</td>\n",
       "      <td>-6527.802073</td>\n",
       "      <td>-187.887713</td>\n",
       "      <td>663.867692</td>\n",
       "      <td>-347.012928</td>\n",
       "      <td>3296.444577</td>\n",
       "      <td>2373.739414</td>\n",
       "      <td>...</td>\n",
       "      <td>-3.333900</td>\n",
       "      <td>-10.156313</td>\n",
       "      <td>2.697583</td>\n",
       "      <td>6.331006</td>\n",
       "      <td>-2.525387</td>\n",
       "      <td>0.411994</td>\n",
       "      <td>19.349089</td>\n",
       "      <td>-2.866200</td>\n",
       "      <td>0.0</td>\n",
       "      <td>1</td>\n",
       "    </tr>\n",
       "  </tbody>\n",
       "</table>\n",
       "<p>5 rows × 164 columns</p>\n",
       "</div>"
      ],
      "text/plain": [
       "              0             1            2            3             4  \\\n",
       "0    441.932661   7952.285956 -6597.443229  4630.249901  13140.750464   \n",
       "1   8989.608558  11673.484953  1131.446362  1844.040323  -8753.324088   \n",
       "2  10668.507770  12591.264090   986.757039  5048.943308  -8241.432345   \n",
       "3  11714.634149  12304.238553  1232.151830  6968.885752  -7723.520810   \n",
       "4  12292.692526  11911.251073   987.619597  8391.517959  -6527.802073   \n",
       "\n",
       "              5             6            7            8            9  ...  \\\n",
       "0  12722.120890  11494.439900 -8702.121877 -9162.197450 -1529.562493  ...   \n",
       "1   1742.046292  -5237.215777  3268.983367 -2904.885423  3275.452421  ...   \n",
       "2    693.392980  -2488.998214  1838.418512   125.335751  4046.357927  ...   \n",
       "3    230.108391   -448.051474   390.515751  2478.778945  3187.198572  ...   \n",
       "4   -187.887713    663.867692  -347.012928  3296.444577  2373.739414  ...   \n",
       "\n",
       "        154        155       156       157        158        159        160  \\\n",
       "0 -5.406816  -0.271236 -3.931996  0.467108   0.837577  -0.563901  -0.942227   \n",
       "1  2.564581  -1.487472  0.601396  0.160433  -5.907654  -1.736275  -1.412627   \n",
       "2 -0.353201  -2.309761  3.313154 -0.944603   1.756764 -10.075806  -4.374063   \n",
       "3  3.839871  -1.356766 -2.746948 -2.019972 -10.868602   1.781758  -0.310839   \n",
       "4 -3.333900 -10.156313  2.697583  6.331006  -2.525387   0.411994  19.349089   \n",
       "\n",
       "        161  position  label  \n",
       "0  0.168963       0.0      1  \n",
       "1 -1.312221       0.0      1  \n",
       "2  2.741708       0.0      1  \n",
       "3 -0.880320       0.0      1  \n",
       "4 -2.866200       0.0      1  \n",
       "\n",
       "[5 rows x 164 columns]"
      ]
     },
     "execution_count": 46,
     "metadata": {},
     "output_type": "execute_result"
    }
   ],
   "source": [
    "pca_flat['label']=labels.label.values\n",
    "pca_flat['position'] = labels.position.values\n",
    "pca_flat.head()"
   ]
  },
  {
   "cell_type": "code",
   "execution_count": 47,
   "metadata": {
    "ExecuteTime": {
     "end_time": "2019-04-23T18:07:53.955444Z",
     "start_time": "2019-04-23T18:07:53.887018Z"
    }
   },
   "outputs": [],
   "source": [
    "save_csv=pca_flat.to_csv(r'C:/Users/sam2146/Documents/522_Proj/small/pca_selfies.csv')"
   ]
  },
  {
   "cell_type": "code",
   "execution_count": 51,
   "metadata": {
    "ExecuteTime": {
     "end_time": "2019-04-23T18:24:30.136364Z",
     "start_time": "2019-04-23T18:24:30.109156Z"
    }
   },
   "outputs": [],
   "source": [
    "X=pca_flat.drop(['position','label'],axis=1)\n",
    "y=pca_flat['label']\n",
    "strat=pca_flat[['position','label']]\n",
    "X_train, X_test, y_train, y_test = train_test_split(X, y, test_size=0.285,stratify=strat,random_state=100)"
   ]
  },
  {
   "cell_type": "code",
   "execution_count": 53,
   "metadata": {
    "ExecuteTime": {
     "end_time": "2019-04-23T18:25:33.877433Z",
     "start_time": "2019-04-23T18:25:33.858151Z"
    },
    "scrolled": true
   },
   "outputs": [
    {
     "name": "stdout",
     "output_type": "stream",
     "text": [
      "(120, 162)\n",
      "(48, 162)\n"
     ]
    }
   ],
   "source": [
    "print(X_train.shape)\n",
    "print(X_test.shape)"
   ]
  },
  {
   "cell_type": "code",
   "execution_count": 2,
   "metadata": {
    "ExecuteTime": {
     "end_time": "2019-04-24T13:57:53.902950Z",
     "start_time": "2019-04-24T13:57:53.634648Z"
    },
    "scrolled": true
   },
   "outputs": [
    {
     "data": {
      "text/html": [
       "<div>\n",
       "<style scoped>\n",
       "    .dataframe tbody tr th:only-of-type {\n",
       "        vertical-align: middle;\n",
       "    }\n",
       "\n",
       "    .dataframe tbody tr th {\n",
       "        vertical-align: top;\n",
       "    }\n",
       "\n",
       "    .dataframe thead th {\n",
       "        text-align: right;\n",
       "    }\n",
       "</style>\n",
       "<table border=\"1\" class=\"dataframe\">\n",
       "  <thead>\n",
       "    <tr style=\"text-align: right;\">\n",
       "      <th></th>\n",
       "      <th>Unnamed: 0</th>\n",
       "      <th>0</th>\n",
       "      <th>1</th>\n",
       "      <th>2</th>\n",
       "      <th>3</th>\n",
       "      <th>4</th>\n",
       "      <th>5</th>\n",
       "      <th>6</th>\n",
       "      <th>7</th>\n",
       "      <th>8</th>\n",
       "      <th>...</th>\n",
       "      <th>154</th>\n",
       "      <th>155</th>\n",
       "      <th>156</th>\n",
       "      <th>157</th>\n",
       "      <th>158</th>\n",
       "      <th>159</th>\n",
       "      <th>160</th>\n",
       "      <th>161</th>\n",
       "      <th>position</th>\n",
       "      <th>label</th>\n",
       "    </tr>\n",
       "  </thead>\n",
       "  <tbody>\n",
       "    <tr>\n",
       "      <th>0</th>\n",
       "      <td>0</td>\n",
       "      <td>441.932661</td>\n",
       "      <td>7952.285956</td>\n",
       "      <td>-6597.443229</td>\n",
       "      <td>4630.249901</td>\n",
       "      <td>13140.750464</td>\n",
       "      <td>12722.120890</td>\n",
       "      <td>11494.439900</td>\n",
       "      <td>-8702.121877</td>\n",
       "      <td>-9162.197450</td>\n",
       "      <td>...</td>\n",
       "      <td>-5.406816</td>\n",
       "      <td>-0.271236</td>\n",
       "      <td>-3.931996</td>\n",
       "      <td>0.467108</td>\n",
       "      <td>0.837577</td>\n",
       "      <td>-0.563901</td>\n",
       "      <td>-0.942227</td>\n",
       "      <td>0.168963</td>\n",
       "      <td>0.0</td>\n",
       "      <td>1</td>\n",
       "    </tr>\n",
       "    <tr>\n",
       "      <th>1</th>\n",
       "      <td>1</td>\n",
       "      <td>8989.608558</td>\n",
       "      <td>11673.484953</td>\n",
       "      <td>1131.446362</td>\n",
       "      <td>1844.040323</td>\n",
       "      <td>-8753.324088</td>\n",
       "      <td>1742.046292</td>\n",
       "      <td>-5237.215777</td>\n",
       "      <td>3268.983367</td>\n",
       "      <td>-2904.885423</td>\n",
       "      <td>...</td>\n",
       "      <td>2.564581</td>\n",
       "      <td>-1.487472</td>\n",
       "      <td>0.601396</td>\n",
       "      <td>0.160433</td>\n",
       "      <td>-5.907654</td>\n",
       "      <td>-1.736275</td>\n",
       "      <td>-1.412627</td>\n",
       "      <td>-1.312221</td>\n",
       "      <td>0.0</td>\n",
       "      <td>1</td>\n",
       "    </tr>\n",
       "    <tr>\n",
       "      <th>2</th>\n",
       "      <td>2</td>\n",
       "      <td>10668.507770</td>\n",
       "      <td>12591.264090</td>\n",
       "      <td>986.757039</td>\n",
       "      <td>5048.943308</td>\n",
       "      <td>-8241.432345</td>\n",
       "      <td>693.392980</td>\n",
       "      <td>-2488.998214</td>\n",
       "      <td>1838.418512</td>\n",
       "      <td>125.335751</td>\n",
       "      <td>...</td>\n",
       "      <td>-0.353201</td>\n",
       "      <td>-2.309761</td>\n",
       "      <td>3.313154</td>\n",
       "      <td>-0.944603</td>\n",
       "      <td>1.756764</td>\n",
       "      <td>-10.075806</td>\n",
       "      <td>-4.374063</td>\n",
       "      <td>2.741708</td>\n",
       "      <td>0.0</td>\n",
       "      <td>1</td>\n",
       "    </tr>\n",
       "    <tr>\n",
       "      <th>3</th>\n",
       "      <td>3</td>\n",
       "      <td>11714.634149</td>\n",
       "      <td>12304.238553</td>\n",
       "      <td>1232.151830</td>\n",
       "      <td>6968.885752</td>\n",
       "      <td>-7723.520810</td>\n",
       "      <td>230.108391</td>\n",
       "      <td>-448.051474</td>\n",
       "      <td>390.515751</td>\n",
       "      <td>2478.778945</td>\n",
       "      <td>...</td>\n",
       "      <td>3.839871</td>\n",
       "      <td>-1.356766</td>\n",
       "      <td>-2.746948</td>\n",
       "      <td>-2.019972</td>\n",
       "      <td>-10.868602</td>\n",
       "      <td>1.781758</td>\n",
       "      <td>-0.310839</td>\n",
       "      <td>-0.880320</td>\n",
       "      <td>0.0</td>\n",
       "      <td>1</td>\n",
       "    </tr>\n",
       "    <tr>\n",
       "      <th>4</th>\n",
       "      <td>4</td>\n",
       "      <td>12292.692526</td>\n",
       "      <td>11911.251073</td>\n",
       "      <td>987.619597</td>\n",
       "      <td>8391.517959</td>\n",
       "      <td>-6527.802073</td>\n",
       "      <td>-187.887713</td>\n",
       "      <td>663.867692</td>\n",
       "      <td>-347.012928</td>\n",
       "      <td>3296.444577</td>\n",
       "      <td>...</td>\n",
       "      <td>-3.333900</td>\n",
       "      <td>-10.156313</td>\n",
       "      <td>2.697583</td>\n",
       "      <td>6.331006</td>\n",
       "      <td>-2.525387</td>\n",
       "      <td>0.411994</td>\n",
       "      <td>19.349089</td>\n",
       "      <td>-2.866200</td>\n",
       "      <td>0.0</td>\n",
       "      <td>1</td>\n",
       "    </tr>\n",
       "  </tbody>\n",
       "</table>\n",
       "<p>5 rows × 165 columns</p>\n",
       "</div>"
      ],
      "text/plain": [
       "   Unnamed: 0             0             1            2            3  \\\n",
       "0           0    441.932661   7952.285956 -6597.443229  4630.249901   \n",
       "1           1   8989.608558  11673.484953  1131.446362  1844.040323   \n",
       "2           2  10668.507770  12591.264090   986.757039  5048.943308   \n",
       "3           3  11714.634149  12304.238553  1232.151830  6968.885752   \n",
       "4           4  12292.692526  11911.251073   987.619597  8391.517959   \n",
       "\n",
       "              4             5             6            7            8  ...  \\\n",
       "0  13140.750464  12722.120890  11494.439900 -8702.121877 -9162.197450  ...   \n",
       "1  -8753.324088   1742.046292  -5237.215777  3268.983367 -2904.885423  ...   \n",
       "2  -8241.432345    693.392980  -2488.998214  1838.418512   125.335751  ...   \n",
       "3  -7723.520810    230.108391   -448.051474   390.515751  2478.778945  ...   \n",
       "4  -6527.802073   -187.887713    663.867692  -347.012928  3296.444577  ...   \n",
       "\n",
       "        154        155       156       157        158        159        160  \\\n",
       "0 -5.406816  -0.271236 -3.931996  0.467108   0.837577  -0.563901  -0.942227   \n",
       "1  2.564581  -1.487472  0.601396  0.160433  -5.907654  -1.736275  -1.412627   \n",
       "2 -0.353201  -2.309761  3.313154 -0.944603   1.756764 -10.075806  -4.374063   \n",
       "3  3.839871  -1.356766 -2.746948 -2.019972 -10.868602   1.781758  -0.310839   \n",
       "4 -3.333900 -10.156313  2.697583  6.331006  -2.525387   0.411994  19.349089   \n",
       "\n",
       "        161  position  label  \n",
       "0  0.168963       0.0      1  \n",
       "1 -1.312221       0.0      1  \n",
       "2  2.741708       0.0      1  \n",
       "3 -0.880320       0.0      1  \n",
       "4 -2.866200       0.0      1  \n",
       "\n",
       "[5 rows x 165 columns]"
      ]
     },
     "execution_count": 2,
     "metadata": {},
     "output_type": "execute_result"
    }
   ],
   "source": [
    "df=pd.read_csv(r'C:/Users/sam2146/Documents/522_Proj/small/pca_selfies.csv')\n",
    "df.head()"
   ]
  },
  {
   "cell_type": "code",
   "execution_count": 19,
   "metadata": {
    "ExecuteTime": {
     "end_time": "2019-04-24T14:13:48.059696Z",
     "start_time": "2019-04-24T14:13:48.049670Z"
    }
   },
   "outputs": [
    {
     "name": "stderr",
     "output_type": "stream",
     "text": [
      "C:\\Users\\sam2146\\AppData\\Local\\Continuum\\anaconda3\\lib\\site-packages\\sklearn\\preprocessing\\data.py:625: DataConversionWarning: Data with input dtype int64, float64 were all converted to float64 by StandardScaler.\n",
      "  return self.partial_fit(X, y)\n",
      "C:\\Users\\sam2146\\AppData\\Local\\Continuum\\anaconda3\\lib\\site-packages\\sklearn\\base.py:462: DataConversionWarning: Data with input dtype int64, float64 were all converted to float64 by StandardScaler.\n",
      "  return self.fit(X, **fit_params).transform(X)\n"
     ]
    }
   ],
   "source": [
    "X=df.drop(['position','label'],axis=1)\n",
    "scaler=StandardScaler()\n",
    "X=scaler.fit_transform(X)"
   ]
  },
  {
   "cell_type": "code",
   "execution_count": 28,
   "metadata": {
    "ExecuteTime": {
     "end_time": "2019-04-24T14:16:03.808454Z",
     "start_time": "2019-04-24T14:16:03.799431Z"
    }
   },
   "outputs": [],
   "source": [
    "X=df.drop(['position','label'],axis=1)\n",
    "y=df['label']\n",
    "strat=df[['position','label']]\n",
    "X_train, X_test, y_train, y_test = train_test_split(X, y, test_size=0.285,stratify=strat,random_state=100)"
   ]
  },
  {
   "cell_type": "code",
   "execution_count": null,
   "metadata": {},
   "outputs": [],
   "source": [
    "mlp classifier, change number of layers"
   ]
  },
  {
   "cell_type": "code",
   "execution_count": 4,
   "metadata": {
    "ExecuteTime": {
     "end_time": "2019-04-24T13:58:19.816198Z",
     "start_time": "2019-04-24T13:58:19.606708Z"
    }
   },
   "outputs": [],
   "source": [
    "from sklearn.preprocessing import StandardScaler\n",
    "from sklearn.model_selection import GridSearchCV\n",
    "from sklearn.neural_network import MLPClassifier\n",
    "from sklearn.metrics import classification_report, confusion_matrix"
   ]
  },
  {
   "cell_type": "code",
   "execution_count": 29,
   "metadata": {
    "ExecuteTime": {
     "end_time": "2019-04-24T14:16:17.968531Z",
     "start_time": "2019-04-24T14:16:07.513797Z"
    },
    "scrolled": true
   },
   "outputs": [
    {
     "name": "stdout",
     "output_type": "stream",
     "text": [
      "Fitting 5 folds for each of 6 candidates, totalling 30 fits\n",
      "[CV] alpha=1e-05, hidden_layer_sizes=(100, 100, 100), max_iter=500, random_state=42 \n",
      "[CV]  alpha=1e-05, hidden_layer_sizes=(100, 100, 100), max_iter=500, random_state=42, score=1.0, total=   0.0s\n",
      "[CV] alpha=1e-05, hidden_layer_sizes=(100, 100, 100), max_iter=500, random_state=42 \n",
      "[CV]  alpha=1e-05, hidden_layer_sizes=(100, 100, 100), max_iter=500, random_state=42, score=0.9583333333333334, total=   0.0s\n",
      "[CV] alpha=1e-05, hidden_layer_sizes=(100, 100, 100), max_iter=500, random_state=42 \n",
      "[CV]  alpha=1e-05, hidden_layer_sizes=(100, 100, 100), max_iter=500, random_state=42, score=1.0, total=   0.0s\n",
      "[CV] alpha=1e-05, hidden_layer_sizes=(100, 100, 100), max_iter=500, random_state=42 \n",
      "[CV]  alpha=1e-05, hidden_layer_sizes=(100, 100, 100), max_iter=500, random_state=42, score=0.9583333333333334, total=   0.0s\n",
      "[CV] alpha=1e-05, hidden_layer_sizes=(100, 100, 100), max_iter=500, random_state=42 \n"
     ]
    },
    {
     "name": "stderr",
     "output_type": "stream",
     "text": [
      "[Parallel(n_jobs=1)]: Using backend SequentialBackend with 1 concurrent workers.\n",
      "[Parallel(n_jobs=1)]: Done   1 out of   1 | elapsed:    0.0s remaining:    0.0s\n",
      "[Parallel(n_jobs=1)]: Done   2 out of   2 | elapsed:    0.0s remaining:    0.0s\n"
     ]
    },
    {
     "name": "stdout",
     "output_type": "stream",
     "text": [
      "[CV]  alpha=1e-05, hidden_layer_sizes=(100, 100, 100), max_iter=500, random_state=42, score=0.9166666666666666, total=   0.0s\n",
      "[CV] alpha=1e-05, hidden_layer_sizes=(10, 10, 10), max_iter=500, random_state=42 \n",
      "[CV]  alpha=1e-05, hidden_layer_sizes=(10, 10, 10), max_iter=500, random_state=42, score=0.625, total=   0.1s\n",
      "[CV] alpha=1e-05, hidden_layer_sizes=(10, 10, 10), max_iter=500, random_state=42 \n",
      "[CV]  alpha=1e-05, hidden_layer_sizes=(10, 10, 10), max_iter=500, random_state=42, score=0.6666666666666666, total=   0.1s\n",
      "[CV] alpha=1e-05, hidden_layer_sizes=(10, 10, 10), max_iter=500, random_state=42 \n",
      "[CV]  alpha=1e-05, hidden_layer_sizes=(10, 10, 10), max_iter=500, random_state=42, score=0.7083333333333334, total=   0.2s\n",
      "[CV] alpha=1e-05, hidden_layer_sizes=(10, 10, 10), max_iter=500, random_state=42 \n",
      "[CV]  alpha=1e-05, hidden_layer_sizes=(10, 10, 10), max_iter=500, random_state=42, score=0.6666666666666666, total=   0.3s\n",
      "[CV] alpha=1e-05, hidden_layer_sizes=(10, 10, 10), max_iter=500, random_state=42 \n",
      "[CV]  alpha=1e-05, hidden_layer_sizes=(10, 10, 10), max_iter=500, random_state=42, score=0.5416666666666666, total=   0.1s\n",
      "[CV] alpha=0.001, hidden_layer_sizes=(100, 100, 100), max_iter=500, random_state=42 \n",
      "[CV]  alpha=0.001, hidden_layer_sizes=(100, 100, 100), max_iter=500, random_state=42, score=1.0, total=   0.0s\n",
      "[CV] alpha=0.001, hidden_layer_sizes=(100, 100, 100), max_iter=500, random_state=42 \n",
      "[CV]  alpha=0.001, hidden_layer_sizes=(100, 100, 100), max_iter=500, random_state=42, score=0.9583333333333334, total=   0.0s\n",
      "[CV] alpha=0.001, hidden_layer_sizes=(100, 100, 100), max_iter=500, random_state=42 \n",
      "[CV]  alpha=0.001, hidden_layer_sizes=(100, 100, 100), max_iter=500, random_state=42, score=1.0, total=   0.0s\n",
      "[CV] alpha=0.001, hidden_layer_sizes=(100, 100, 100), max_iter=500, random_state=42 \n",
      "[CV]  alpha=0.001, hidden_layer_sizes=(100, 100, 100), max_iter=500, random_state=42, score=0.9583333333333334, total=   0.0s\n",
      "[CV] alpha=0.001, hidden_layer_sizes=(100, 100, 100), max_iter=500, random_state=42 \n",
      "[CV]  alpha=0.001, hidden_layer_sizes=(100, 100, 100), max_iter=500, random_state=42, score=0.9166666666666666, total=   0.0s\n",
      "[CV] alpha=0.001, hidden_layer_sizes=(10, 10, 10), max_iter=500, random_state=42 \n",
      "[CV]  alpha=0.001, hidden_layer_sizes=(10, 10, 10), max_iter=500, random_state=42, score=0.625, total=   0.1s\n",
      "[CV] alpha=0.001, hidden_layer_sizes=(10, 10, 10), max_iter=500, random_state=42 \n",
      "[CV]  alpha=0.001, hidden_layer_sizes=(10, 10, 10), max_iter=500, random_state=42, score=0.6666666666666666, total=   0.3s\n",
      "[CV] alpha=0.001, hidden_layer_sizes=(10, 10, 10), max_iter=500, random_state=42 \n",
      "[CV]  alpha=0.001, hidden_layer_sizes=(10, 10, 10), max_iter=500, random_state=42, score=0.75, total=   0.2s\n",
      "[CV] alpha=0.001, hidden_layer_sizes=(10, 10, 10), max_iter=500, random_state=42 \n",
      "[CV]  alpha=0.001, hidden_layer_sizes=(10, 10, 10), max_iter=500, random_state=42, score=0.6666666666666666, total=   0.2s\n",
      "[CV] alpha=0.001, hidden_layer_sizes=(10, 10, 10), max_iter=500, random_state=42 \n"
     ]
    },
    {
     "name": "stderr",
     "output_type": "stream",
     "text": [
      "C:\\Users\\sam2146\\AppData\\Local\\Continuum\\anaconda3\\lib\\site-packages\\sklearn\\neural_network\\multilayer_perceptron.py:562: ConvergenceWarning: Stochastic Optimizer: Maximum iterations (500) reached and the optimization hasn't converged yet.\n",
      "  % self.max_iter, ConvergenceWarning)\n"
     ]
    },
    {
     "name": "stdout",
     "output_type": "stream",
     "text": [
      "[CV]  alpha=0.001, hidden_layer_sizes=(10, 10, 10), max_iter=500, random_state=42, score=0.5, total=   0.3s\n",
      "[CV] alpha=1, hidden_layer_sizes=(100, 100, 100), max_iter=500, random_state=42 \n",
      "[CV]  alpha=1, hidden_layer_sizes=(100, 100, 100), max_iter=500, random_state=42, score=1.0, total=   0.8s\n",
      "[CV] alpha=1, hidden_layer_sizes=(100, 100, 100), max_iter=500, random_state=42 \n"
     ]
    },
    {
     "name": "stderr",
     "output_type": "stream",
     "text": [
      "C:\\Users\\sam2146\\AppData\\Local\\Continuum\\anaconda3\\lib\\site-packages\\sklearn\\neural_network\\multilayer_perceptron.py:562: ConvergenceWarning: Stochastic Optimizer: Maximum iterations (500) reached and the optimization hasn't converged yet.\n",
      "  % self.max_iter, ConvergenceWarning)\n",
      "C:\\Users\\sam2146\\AppData\\Local\\Continuum\\anaconda3\\lib\\site-packages\\sklearn\\neural_network\\multilayer_perceptron.py:562: ConvergenceWarning: Stochastic Optimizer: Maximum iterations (500) reached and the optimization hasn't converged yet.\n",
      "  % self.max_iter, ConvergenceWarning)\n"
     ]
    },
    {
     "name": "stdout",
     "output_type": "stream",
     "text": [
      "[CV]  alpha=1, hidden_layer_sizes=(100, 100, 100), max_iter=500, random_state=42, score=0.9583333333333334, total=   0.9s\n",
      "[CV] alpha=1, hidden_layer_sizes=(100, 100, 100), max_iter=500, random_state=42 \n"
     ]
    },
    {
     "name": "stderr",
     "output_type": "stream",
     "text": [
      "C:\\Users\\sam2146\\AppData\\Local\\Continuum\\anaconda3\\lib\\site-packages\\sklearn\\neural_network\\multilayer_perceptron.py:562: ConvergenceWarning: Stochastic Optimizer: Maximum iterations (500) reached and the optimization hasn't converged yet.\n",
      "  % self.max_iter, ConvergenceWarning)\n"
     ]
    },
    {
     "name": "stdout",
     "output_type": "stream",
     "text": [
      "[CV]  alpha=1, hidden_layer_sizes=(100, 100, 100), max_iter=500, random_state=42, score=1.0, total=   0.9s\n",
      "[CV] alpha=1, hidden_layer_sizes=(100, 100, 100), max_iter=500, random_state=42 \n"
     ]
    },
    {
     "name": "stderr",
     "output_type": "stream",
     "text": [
      "C:\\Users\\sam2146\\AppData\\Local\\Continuum\\anaconda3\\lib\\site-packages\\sklearn\\neural_network\\multilayer_perceptron.py:562: ConvergenceWarning: Stochastic Optimizer: Maximum iterations (500) reached and the optimization hasn't converged yet.\n",
      "  % self.max_iter, ConvergenceWarning)\n"
     ]
    },
    {
     "name": "stdout",
     "output_type": "stream",
     "text": [
      "[CV]  alpha=1, hidden_layer_sizes=(100, 100, 100), max_iter=500, random_state=42, score=0.9583333333333334, total=   0.8s\n",
      "[CV] alpha=1, hidden_layer_sizes=(100, 100, 100), max_iter=500, random_state=42 \n"
     ]
    },
    {
     "name": "stderr",
     "output_type": "stream",
     "text": [
      "C:\\Users\\sam2146\\AppData\\Local\\Continuum\\anaconda3\\lib\\site-packages\\sklearn\\neural_network\\multilayer_perceptron.py:562: ConvergenceWarning: Stochastic Optimizer: Maximum iterations (500) reached and the optimization hasn't converged yet.\n",
      "  % self.max_iter, ConvergenceWarning)\n"
     ]
    },
    {
     "name": "stdout",
     "output_type": "stream",
     "text": [
      "[CV]  alpha=1, hidden_layer_sizes=(100, 100, 100), max_iter=500, random_state=42, score=0.9166666666666666, total=   0.9s\n",
      "[CV] alpha=1, hidden_layer_sizes=(10, 10, 10), max_iter=500, random_state=42 \n",
      "[CV]  alpha=1, hidden_layer_sizes=(10, 10, 10), max_iter=500, random_state=42, score=0.625, total=   0.1s\n",
      "[CV] alpha=1, hidden_layer_sizes=(10, 10, 10), max_iter=500, random_state=42 \n"
     ]
    },
    {
     "name": "stderr",
     "output_type": "stream",
     "text": [
      "C:\\Users\\sam2146\\AppData\\Local\\Continuum\\anaconda3\\lib\\site-packages\\sklearn\\neural_network\\multilayer_perceptron.py:562: ConvergenceWarning: Stochastic Optimizer: Maximum iterations (500) reached and the optimization hasn't converged yet.\n",
      "  % self.max_iter, ConvergenceWarning)\n"
     ]
    },
    {
     "name": "stdout",
     "output_type": "stream",
     "text": [
      "[CV]  alpha=1, hidden_layer_sizes=(10, 10, 10), max_iter=500, random_state=42, score=0.6666666666666666, total=   0.4s\n",
      "[CV] alpha=1, hidden_layer_sizes=(10, 10, 10), max_iter=500, random_state=42 \n",
      "[CV]  alpha=1, hidden_layer_sizes=(10, 10, 10), max_iter=500, random_state=42, score=0.75, total=   0.4s\n",
      "[CV] alpha=1, hidden_layer_sizes=(10, 10, 10), max_iter=500, random_state=42 \n",
      "[CV]  alpha=1, hidden_layer_sizes=(10, 10, 10), max_iter=500, random_state=42, score=0.6666666666666666, total=   0.3s\n",
      "[CV] alpha=1, hidden_layer_sizes=(10, 10, 10), max_iter=500, random_state=42 \n",
      "[CV]  alpha=1, hidden_layer_sizes=(10, 10, 10), max_iter=500, random_state=42, score=0.5416666666666666, total=   0.3s\n"
     ]
    },
    {
     "name": "stderr",
     "output_type": "stream",
     "text": [
      "C:\\Users\\sam2146\\AppData\\Local\\Continuum\\anaconda3\\lib\\site-packages\\sklearn\\neural_network\\multilayer_perceptron.py:562: ConvergenceWarning: Stochastic Optimizer: Maximum iterations (500) reached and the optimization hasn't converged yet.\n",
      "  % self.max_iter, ConvergenceWarning)\n",
      "[Parallel(n_jobs=1)]: Done  30 out of  30 | elapsed:   10.3s finished\n"
     ]
    },
    {
     "data": {
      "text/plain": [
       "GridSearchCV(cv=5, error_score='raise-deprecating',\n",
       "       estimator=MLPClassifier(activation='relu', alpha=0.0001, batch_size='auto', beta_1=0.9,\n",
       "       beta_2=0.999, early_stopping=False, epsilon=1e-08,\n",
       "       hidden_layer_sizes=(100,), learning_rate='constant',\n",
       "       learning_rate_init=0.001, max_iter=200, momentum=0.9,\n",
       "       n_iter_no_change=10, nesterovs_momentum=True, power_t=0.5,\n",
       "       random_state=None, shuffle=True, solver='adam', tol=0.0001,\n",
       "       validation_fraction=0.1, verbose=False, warm_start=False),\n",
       "       fit_params=None, iid='warn', n_jobs=None,\n",
       "       param_grid={'max_iter': [500], 'alpha': [1e-05, 0.001, 1], 'hidden_layer_sizes': [(100, 100, 100), (10, 10, 10)], 'random_state': [42]},\n",
       "       pre_dispatch='2*n_jobs', refit=True, return_train_score='warn',\n",
       "       scoring=None, verbose=3)"
      ]
     },
     "execution_count": 29,
     "metadata": {},
     "output_type": "execute_result"
    }
   ],
   "source": [
    "params={'max_iter':[500],'alpha':[.00001,.001,1],'hidden_layer_sizes':[(100,100,100),(10,10,10)],'random_state':[42]}\n",
    "grid=GridSearchCV(MLPClassifier(),params,refit=True,verbose=3,cv=5)\n",
    "grid.fit(X_train,y_train)"
   ]
  },
  {
   "cell_type": "code",
   "execution_count": 30,
   "metadata": {
    "ExecuteTime": {
     "end_time": "2019-04-24T14:16:20.900380Z",
     "start_time": "2019-04-24T14:16:20.896403Z"
    }
   },
   "outputs": [],
   "source": [
    "y_pred=grid.predict(X_test)"
   ]
  },
  {
   "cell_type": "code",
   "execution_count": 31,
   "metadata": {
    "ExecuteTime": {
     "end_time": "2019-04-24T14:16:21.756859Z",
     "start_time": "2019-04-24T14:16:21.749841Z"
    },
    "scrolled": true
   },
   "outputs": [
    {
     "name": "stdout",
     "output_type": "stream",
     "text": [
      "[[15  0  1]\n",
      " [ 0 16  0]\n",
      " [ 0  0 16]]\n",
      "              precision    recall  f1-score   support\n",
      "\n",
      "           1       1.00      0.94      0.97        16\n",
      "           2       1.00      1.00      1.00        16\n",
      "           3       0.94      1.00      0.97        16\n",
      "\n",
      "   micro avg       0.98      0.98      0.98        48\n",
      "   macro avg       0.98      0.98      0.98        48\n",
      "weighted avg       0.98      0.98      0.98        48\n",
      "\n"
     ]
    }
   ],
   "source": [
    "print(confusion_matrix(y_test, y_pred))\n",
    "print(classification_report(y_test,y_pred))"
   ]
  },
  {
   "cell_type": "code",
   "execution_count": 48,
   "metadata": {
    "ExecuteTime": {
     "end_time": "2019-04-24T14:31:17.206699Z",
     "start_time": "2019-04-24T14:31:17.202687Z"
    }
   },
   "outputs": [
    {
     "data": {
      "text/plain": [
       "(1687500,)"
      ]
     },
     "execution_count": 48,
     "metadata": {},
     "output_type": "execute_result"
    }
   ],
   "source": [
    "sadie.shape"
   ]
  },
  {
   "cell_type": "code",
   "execution_count": 19,
   "metadata": {
    "ExecuteTime": {
     "end_time": "2019-04-25T13:42:46.769623Z",
     "start_time": "2019-04-25T13:42:46.454268Z"
    }
   },
   "outputs": [
    {
     "ename": "ValueError",
     "evalue": "Shape of passed values is (1687500, 1), indices imply (1687500, 1687500)",
     "output_type": "error",
     "traceback": [
      "\u001b[1;31m---------------------------------------------------------------------------\u001b[0m",
      "\u001b[1;31mValueError\u001b[0m                                Traceback (most recent call last)",
      "\u001b[1;32m~\\AppData\\Local\\Continuum\\anaconda3\\lib\\site-packages\\pandas\\core\\internals\\managers.py\u001b[0m in \u001b[0;36mcreate_block_manager_from_blocks\u001b[1;34m(blocks, axes)\u001b[0m\n\u001b[0;32m   1650\u001b[0m                 blocks = [make_block(values=blocks[0],\n\u001b[1;32m-> 1651\u001b[1;33m                                      placement=slice(0, len(axes[0])))]\n\u001b[0m\u001b[0;32m   1652\u001b[0m \u001b[1;33m\u001b[0m\u001b[0m\n",
      "\u001b[1;32m~\\AppData\\Local\\Continuum\\anaconda3\\lib\\site-packages\\pandas\\core\\internals\\blocks.py\u001b[0m in \u001b[0;36mmake_block\u001b[1;34m(values, placement, klass, ndim, dtype, fastpath)\u001b[0m\n\u001b[0;32m   3094\u001b[0m \u001b[1;33m\u001b[0m\u001b[0m\n\u001b[1;32m-> 3095\u001b[1;33m     \u001b[1;32mreturn\u001b[0m \u001b[0mklass\u001b[0m\u001b[1;33m(\u001b[0m\u001b[0mvalues\u001b[0m\u001b[1;33m,\u001b[0m \u001b[0mndim\u001b[0m\u001b[1;33m=\u001b[0m\u001b[0mndim\u001b[0m\u001b[1;33m,\u001b[0m \u001b[0mplacement\u001b[0m\u001b[1;33m=\u001b[0m\u001b[0mplacement\u001b[0m\u001b[1;33m)\u001b[0m\u001b[1;33m\u001b[0m\u001b[1;33m\u001b[0m\u001b[0m\n\u001b[0m\u001b[0;32m   3096\u001b[0m \u001b[1;33m\u001b[0m\u001b[0m\n",
      "\u001b[1;32m~\\AppData\\Local\\Continuum\\anaconda3\\lib\\site-packages\\pandas\\core\\internals\\blocks.py\u001b[0m in \u001b[0;36m__init__\u001b[1;34m(self, values, placement, ndim)\u001b[0m\n\u001b[0;32m     86\u001b[0m                 \u001b[1;34m'Wrong number of items passed {val}, placement implies '\u001b[0m\u001b[1;33m\u001b[0m\u001b[1;33m\u001b[0m\u001b[0m\n\u001b[1;32m---> 87\u001b[1;33m                 '{mgr}'.format(val=len(self.values), mgr=len(self.mgr_locs)))\n\u001b[0m\u001b[0;32m     88\u001b[0m \u001b[1;33m\u001b[0m\u001b[0m\n",
      "\u001b[1;31mValueError\u001b[0m: Wrong number of items passed 1, placement implies 1687500",
      "\nDuring handling of the above exception, another exception occurred:\n",
      "\u001b[1;31mValueError\u001b[0m                                Traceback (most recent call last)",
      "\u001b[1;32m<ipython-input-19-3dc36bd40b8d>\u001b[0m in \u001b[0;36m<module>\u001b[1;34m\u001b[0m\n\u001b[0;32m      2\u001b[0m \u001b[1;31m#plt.imshow(sadie)\u001b[0m\u001b[1;33m\u001b[0m\u001b[1;33m\u001b[0m\u001b[1;33m\u001b[0m\u001b[0m\n\u001b[0;32m      3\u001b[0m \u001b[0msadie\u001b[0m\u001b[1;33m=\u001b[0m\u001b[0msadie\u001b[0m\u001b[1;33m.\u001b[0m\u001b[0mflatten\u001b[0m\u001b[1;33m(\u001b[0m\u001b[1;33m)\u001b[0m\u001b[1;33m\u001b[0m\u001b[1;33m\u001b[0m\u001b[0m\n\u001b[1;32m----> 4\u001b[1;33m \u001b[0msadie\u001b[0m\u001b[1;33m=\u001b[0m\u001b[0mpd\u001b[0m\u001b[1;33m.\u001b[0m\u001b[0mDataFrame\u001b[0m\u001b[1;33m(\u001b[0m\u001b[0msadie\u001b[0m\u001b[1;33m,\u001b[0m\u001b[0mcolumns\u001b[0m\u001b[1;33m=\u001b[0m\u001b[0mlist\u001b[0m\u001b[1;33m(\u001b[0m\u001b[0mrange\u001b[0m\u001b[1;33m(\u001b[0m\u001b[1;36m1687500\u001b[0m\u001b[1;33m)\u001b[0m\u001b[1;33m)\u001b[0m\u001b[1;33m)\u001b[0m\u001b[1;33m\u001b[0m\u001b[1;33m\u001b[0m\u001b[0m\n\u001b[0m\u001b[0;32m      5\u001b[0m \u001b[0mbig_df_reduced\u001b[0m\u001b[1;33m=\u001b[0m\u001b[0mpca\u001b[0m\u001b[1;33m.\u001b[0m\u001b[0mtransform\u001b[0m\u001b[1;33m(\u001b[0m\u001b[0msadie\u001b[0m\u001b[1;33m)\u001b[0m\u001b[1;33m\u001b[0m\u001b[1;33m\u001b[0m\u001b[0m\n\u001b[0;32m      6\u001b[0m \u001b[0mbig_df\u001b[0m\u001b[1;33m.\u001b[0m\u001b[0mshape\u001b[0m\u001b[1;33m,\u001b[0m \u001b[0mbig_df_reduced\u001b[0m\u001b[1;33m.\u001b[0m\u001b[0mshape\u001b[0m\u001b[1;33m\u001b[0m\u001b[1;33m\u001b[0m\u001b[0m\n",
      "\u001b[1;32m~\\AppData\\Local\\Continuum\\anaconda3\\lib\\site-packages\\pandas\\core\\frame.py\u001b[0m in \u001b[0;36m__init__\u001b[1;34m(self, data, index, columns, dtype, copy)\u001b[0m\n\u001b[0;32m    421\u001b[0m             \u001b[1;32melse\u001b[0m\u001b[1;33m:\u001b[0m\u001b[1;33m\u001b[0m\u001b[1;33m\u001b[0m\u001b[0m\n\u001b[0;32m    422\u001b[0m                 mgr = init_ndarray(data, index, columns, dtype=dtype,\n\u001b[1;32m--> 423\u001b[1;33m                                    copy=copy)\n\u001b[0m\u001b[0;32m    424\u001b[0m \u001b[1;33m\u001b[0m\u001b[0m\n\u001b[0;32m    425\u001b[0m         \u001b[1;31m# For data is list-like, or Iterable (will consume into list)\u001b[0m\u001b[1;33m\u001b[0m\u001b[1;33m\u001b[0m\u001b[1;33m\u001b[0m\u001b[0m\n",
      "\u001b[1;32m~\\AppData\\Local\\Continuum\\anaconda3\\lib\\site-packages\\pandas\\core\\internals\\construction.py\u001b[0m in \u001b[0;36minit_ndarray\u001b[1;34m(values, index, columns, dtype, copy)\u001b[0m\n\u001b[0;32m    165\u001b[0m         \u001b[0mvalues\u001b[0m \u001b[1;33m=\u001b[0m \u001b[0mmaybe_infer_to_datetimelike\u001b[0m\u001b[1;33m(\u001b[0m\u001b[0mvalues\u001b[0m\u001b[1;33m)\u001b[0m\u001b[1;33m\u001b[0m\u001b[1;33m\u001b[0m\u001b[0m\n\u001b[0;32m    166\u001b[0m \u001b[1;33m\u001b[0m\u001b[0m\n\u001b[1;32m--> 167\u001b[1;33m     \u001b[1;32mreturn\u001b[0m \u001b[0mcreate_block_manager_from_blocks\u001b[0m\u001b[1;33m(\u001b[0m\u001b[1;33m[\u001b[0m\u001b[0mvalues\u001b[0m\u001b[1;33m]\u001b[0m\u001b[1;33m,\u001b[0m \u001b[1;33m[\u001b[0m\u001b[0mcolumns\u001b[0m\u001b[1;33m,\u001b[0m \u001b[0mindex\u001b[0m\u001b[1;33m]\u001b[0m\u001b[1;33m)\u001b[0m\u001b[1;33m\u001b[0m\u001b[1;33m\u001b[0m\u001b[0m\n\u001b[0m\u001b[0;32m    168\u001b[0m \u001b[1;33m\u001b[0m\u001b[0m\n\u001b[0;32m    169\u001b[0m \u001b[1;33m\u001b[0m\u001b[0m\n",
      "\u001b[1;32m~\\AppData\\Local\\Continuum\\anaconda3\\lib\\site-packages\\pandas\\core\\internals\\managers.py\u001b[0m in \u001b[0;36mcreate_block_manager_from_blocks\u001b[1;34m(blocks, axes)\u001b[0m\n\u001b[0;32m   1658\u001b[0m         \u001b[0mblocks\u001b[0m \u001b[1;33m=\u001b[0m \u001b[1;33m[\u001b[0m\u001b[0mgetattr\u001b[0m\u001b[1;33m(\u001b[0m\u001b[0mb\u001b[0m\u001b[1;33m,\u001b[0m \u001b[1;34m'values'\u001b[0m\u001b[1;33m,\u001b[0m \u001b[0mb\u001b[0m\u001b[1;33m)\u001b[0m \u001b[1;32mfor\u001b[0m \u001b[0mb\u001b[0m \u001b[1;32min\u001b[0m \u001b[0mblocks\u001b[0m\u001b[1;33m]\u001b[0m\u001b[1;33m\u001b[0m\u001b[1;33m\u001b[0m\u001b[0m\n\u001b[0;32m   1659\u001b[0m         \u001b[0mtot_items\u001b[0m \u001b[1;33m=\u001b[0m \u001b[0msum\u001b[0m\u001b[1;33m(\u001b[0m\u001b[0mb\u001b[0m\u001b[1;33m.\u001b[0m\u001b[0mshape\u001b[0m\u001b[1;33m[\u001b[0m\u001b[1;36m0\u001b[0m\u001b[1;33m]\u001b[0m \u001b[1;32mfor\u001b[0m \u001b[0mb\u001b[0m \u001b[1;32min\u001b[0m \u001b[0mblocks\u001b[0m\u001b[1;33m)\u001b[0m\u001b[1;33m\u001b[0m\u001b[1;33m\u001b[0m\u001b[0m\n\u001b[1;32m-> 1660\u001b[1;33m         \u001b[0mconstruction_error\u001b[0m\u001b[1;33m(\u001b[0m\u001b[0mtot_items\u001b[0m\u001b[1;33m,\u001b[0m \u001b[0mblocks\u001b[0m\u001b[1;33m[\u001b[0m\u001b[1;36m0\u001b[0m\u001b[1;33m]\u001b[0m\u001b[1;33m.\u001b[0m\u001b[0mshape\u001b[0m\u001b[1;33m[\u001b[0m\u001b[1;36m1\u001b[0m\u001b[1;33m:\u001b[0m\u001b[1;33m]\u001b[0m\u001b[1;33m,\u001b[0m \u001b[0maxes\u001b[0m\u001b[1;33m,\u001b[0m \u001b[0me\u001b[0m\u001b[1;33m)\u001b[0m\u001b[1;33m\u001b[0m\u001b[1;33m\u001b[0m\u001b[0m\n\u001b[0m\u001b[0;32m   1661\u001b[0m \u001b[1;33m\u001b[0m\u001b[0m\n\u001b[0;32m   1662\u001b[0m \u001b[1;33m\u001b[0m\u001b[0m\n",
      "\u001b[1;32m~\\AppData\\Local\\Continuum\\anaconda3\\lib\\site-packages\\pandas\\core\\internals\\managers.py\u001b[0m in \u001b[0;36mconstruction_error\u001b[1;34m(tot_items, block_shape, axes, e)\u001b[0m\n\u001b[0;32m   1689\u001b[0m         \u001b[1;32mraise\u001b[0m \u001b[0mValueError\u001b[0m\u001b[1;33m(\u001b[0m\u001b[1;34m\"Empty data passed with indices specified.\"\u001b[0m\u001b[1;33m)\u001b[0m\u001b[1;33m\u001b[0m\u001b[1;33m\u001b[0m\u001b[0m\n\u001b[0;32m   1690\u001b[0m     raise ValueError(\"Shape of passed values is {0}, indices imply {1}\".format(\n\u001b[1;32m-> 1691\u001b[1;33m         passed, implied))\n\u001b[0m\u001b[0;32m   1692\u001b[0m \u001b[1;33m\u001b[0m\u001b[0m\n\u001b[0;32m   1693\u001b[0m \u001b[1;33m\u001b[0m\u001b[0m\n",
      "\u001b[1;31mValueError\u001b[0m: Shape of passed values is (1687500, 1), indices imply (1687500, 1687500)"
     ]
    }
   ],
   "source": [
    "sadie=io.imread('IMG_1790.jpg')\n",
    "#plt.imshow(sadie)\n",
    "sadie=sadie.flatten()\n",
    "sadie=pd.DataFrame(sadie,columns=list(range(1687500)))\n",
    "big_df_reduced=pca.transform(sadie)\n",
    "big_df.shape, big_df_reduced.shape"
   ]
  },
  {
   "cell_type": "code",
   "execution_count": 18,
   "metadata": {
    "ExecuteTime": {
     "end_time": "2019-04-25T13:42:26.687740Z",
     "start_time": "2019-04-25T13:42:26.620532Z"
    }
   },
   "outputs": [],
   "source": [
    "#image_path='C:\\Users\\sam2146\\Documents\\522_Proj\\IMG_1790.jpg'\n",
    "from skimage import io\n",
    "sadie=io.imread('IMG_1790.jpg')\n",
    "#dog=grid.predict(sadie)"
   ]
  },
  {
   "cell_type": "code",
   "execution_count": 27,
   "metadata": {
    "ExecuteTime": {
     "end_time": "2019-04-24T14:15:46.151219Z",
     "start_time": "2019-04-24T14:15:46.146176Z"
    },
    "scrolled": true
   },
   "outputs": [
    {
     "data": {
      "text/plain": [
       "{'alpha': 1,\n",
       " 'hidden_layer_sizes': (100, 100, 100),\n",
       " 'max_iter': 500,\n",
       " 'random_state': 42}"
      ]
     },
     "execution_count": 27,
     "metadata": {},
     "output_type": "execute_result"
    }
   ],
   "source": [
    "grid.best_params_"
   ]
  },
  {
   "cell_type": "code",
   "execution_count": 25,
   "metadata": {
    "ExecuteTime": {
     "end_time": "2019-04-23T22:13:28.109900Z",
     "start_time": "2019-04-23T22:13:28.059078Z"
    }
   },
   "outputs": [],
   "source": [
    "mlp=MLPClassifier(max_iter=500, alpha=.00001 ,random_state=42)\n",
    "mlp.fit(X_train,y_train)\n",
    "y_pred=mlp.predict(X_test)"
   ]
  },
  {
   "cell_type": "code",
   "execution_count": null,
   "metadata": {},
   "outputs": [],
   "source": []
  },
  {
   "cell_type": "code",
   "execution_count": 32,
   "metadata": {
    "ExecuteTime": {
     "end_time": "2019-04-24T14:16:38.183884Z",
     "start_time": "2019-04-24T14:16:38.171891Z"
    },
    "scrolled": true
   },
   "outputs": [
    {
     "ename": "NameError",
     "evalue": "name 'accuracy_score' is not defined",
     "output_type": "error",
     "traceback": [
      "\u001b[1;31m---------------------------------------------------------------------------\u001b[0m",
      "\u001b[1;31mNameError\u001b[0m                                 Traceback (most recent call last)",
      "\u001b[1;32m<ipython-input-32-b123e04c5193>\u001b[0m in \u001b[0;36m<module>\u001b[1;34m\u001b[0m\n\u001b[1;32m----> 1\u001b[1;33m \u001b[0maccuracy_score\u001b[0m\u001b[1;33m(\u001b[0m\u001b[0my_test\u001b[0m\u001b[1;33m,\u001b[0m \u001b[0my_pred\u001b[0m\u001b[1;33m)\u001b[0m\u001b[1;33m\u001b[0m\u001b[1;33m\u001b[0m\u001b[0m\n\u001b[0m",
      "\u001b[1;31mNameError\u001b[0m: name 'accuracy_score' is not defined"
     ]
    }
   ],
   "source": [
    "accuracy_score(y_test, y_pred)"
   ]
  },
  {
   "cell_type": "code",
   "execution_count": 31,
   "metadata": {
    "ExecuteTime": {
     "end_time": "2019-04-23T22:16:04.609599Z",
     "start_time": "2019-04-23T22:16:04.579174Z"
    }
   },
   "outputs": [
    {
     "name": "stdout",
     "output_type": "stream",
     "text": [
      "[[15  0  1]\n",
      " [ 0 16  0]\n",
      " [ 0  0 16]]\n",
      "              precision    recall  f1-score   support\n",
      "\n",
      "           1       1.00      0.94      0.97        16\n",
      "           2       1.00      1.00      1.00        16\n",
      "           3       0.94      1.00      0.97        16\n",
      "\n",
      "   micro avg       0.98      0.98      0.98        48\n",
      "   macro avg       0.98      0.98      0.98        48\n",
      "weighted avg       0.98      0.98      0.98        48\n",
      "\n"
     ]
    }
   ],
   "source": [
    "print(confusion_matrix(y_test, y_pred))\n",
    "print(classification_report(y_test,y_pred))"
   ]
  },
  {
   "cell_type": "code",
   "execution_count": null,
   "metadata": {},
   "outputs": [],
   "source": [
    "from sklearn.preprocessing import StandardScaler\n",
    "from sklearn.model_selection import GridSearchCV\n",
    "param_grid = {'C': [.01,1,100], 'gamma': [ .01,1,100],'kernel': ['rbf']} \n",
    "grid = GridSearchCV(SVC(),param_grid,refit=True,verbose=3)\n",
    "grid.fit(X_train,y_train)\n",
    "grid_predictions = grid.predict(X_test)\n",
    "grid.best_params_\n",
    "from sklearn.metrics import classification_report, confusion_matrix\n",
    "print(confusion_matrix(y_test,grid_predictions))\n",
    "print(classification_report(y_test,grid_predictions))"
   ]
  }
 ],
 "metadata": {
  "hide_input": false,
  "kernelspec": {
   "display_name": "Python 3",
   "language": "python",
   "name": "python3"
  },
  "language_info": {
   "codemirror_mode": {
    "name": "ipython",
    "version": 3
   },
   "file_extension": ".py",
   "mimetype": "text/x-python",
   "name": "python",
   "nbconvert_exporter": "python",
   "pygments_lexer": "ipython3",
   "version": "3.6.8"
  },
  "toc": {
   "base_numbering": 1,
   "nav_menu": {},
   "number_sections": true,
   "sideBar": true,
   "skip_h1_title": false,
   "title_cell": "Table of Contents",
   "title_sidebar": "Contents",
   "toc_cell": false,
   "toc_position": {},
   "toc_section_display": true,
   "toc_window_display": false
  },
  "varInspector": {
   "cols": {
    "lenName": 16,
    "lenType": 16,
    "lenVar": 40
   },
   "kernels_config": {
    "python": {
     "delete_cmd_postfix": "",
     "delete_cmd_prefix": "del ",
     "library": "var_list.py",
     "varRefreshCmd": "print(var_dic_list())"
    },
    "r": {
     "delete_cmd_postfix": ") ",
     "delete_cmd_prefix": "rm(",
     "library": "var_list.r",
     "varRefreshCmd": "cat(var_dic_list()) "
    }
   },
   "types_to_exclude": [
    "module",
    "function",
    "builtin_function_or_method",
    "instance",
    "_Feature"
   ],
   "window_display": false
  }
 },
 "nbformat": 4,
 "nbformat_minor": 2
}
